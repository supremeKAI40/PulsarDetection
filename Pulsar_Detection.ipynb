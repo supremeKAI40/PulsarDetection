{
  "nbformat": 4,
  "nbformat_minor": 0,
  "metadata": {
    "colab": {
      "name": "Pulsar Detection.ipynb",
      "provenance": [],
      "collapsed_sections": [],
      "toc_visible": true
    },
    "kernelspec": {
      "name": "python3",
      "display_name": "Python 3"
    }
  },
  "cells": [
    {
      "cell_type": "code",
      "metadata": {
        "id": "-MjB8yCO11jB"
      },
      "source": [
        "!pip install jovian --upgrade --quiet\r\n",
        "!pip install opendatasets --upgrade --quiet"
      ],
      "execution_count": null,
      "outputs": []
    },
    {
      "cell_type": "code",
      "metadata": {
        "colab": {
          "base_uri": "https://localhost:8080/"
        },
        "id": "CEfJt0AY2Ea0",
        "outputId": "b7a8e384-b065-48cf-bc93-bcf806740f2b"
      },
      "source": [
        "import opendatasets as od\r\n",
        "\r\n",
        "dataset_url = 'https://www.kaggle.com/colearninglounge/predicting-pulsar-starintermediate?select=pulsar_data_train.csv'\r\n",
        "od.download(dataset_url)"
      ],
      "execution_count": null,
      "outputs": [
        {
          "output_type": "stream",
          "text": [
            "Please provide your Kaggle credentials to download this dataset. Learn more: http://bit.ly/kaggle-creds\n",
            "Your Kaggle username: supremekai40\n",
            "Your Kaggle Key: ··········\n"
          ],
          "name": "stdout"
        },
        {
          "output_type": "stream",
          "text": [
            "100%|██████████| 790k/790k [00:00<00:00, 74.1MB/s]"
          ],
          "name": "stderr"
        },
        {
          "output_type": "stream",
          "text": [
            "Downloading predicting-pulsar-starintermediate.zip to ./predicting-pulsar-starintermediate\n",
            "\n"
          ],
          "name": "stdout"
        },
        {
          "output_type": "stream",
          "text": [
            "\n"
          ],
          "name": "stderr"
        }
      ]
    },
    {
      "cell_type": "code",
      "metadata": {
        "id": "kgjukhfgdX2f"
      },
      "source": [
        "import pandas as pd"
      ],
      "execution_count": null,
      "outputs": []
    },
    {
      "cell_type": "code",
      "metadata": {
        "colab": {
          "base_uri": "https://localhost:8080/"
        },
        "id": "Um3Me7Ur3lwX",
        "outputId": "c045f577-ba52-44cc-f277-91b995932f07"
      },
      "source": [
        "dataset= pd.read_csv('/content/predicting-pulsar-starintermediate/pulsar_data_train.csv')\r\n",
        "print(dataset)"
      ],
      "execution_count": null,
      "outputs": [
        {
          "output_type": "stream",
          "text": [
            "        Mean of the integrated profile  ...  target_class\n",
            "0                           121.156250  ...           0.0\n",
            "1                            76.968750  ...           0.0\n",
            "2                           130.585938  ...           0.0\n",
            "3                           156.398438  ...           0.0\n",
            "4                            84.804688  ...           0.0\n",
            "...                                ...  ...           ...\n",
            "12523                       124.312500  ...           0.0\n",
            "12524                       115.617188  ...           0.0\n",
            "12525                       116.031250  ...           0.0\n",
            "12526                       135.664062  ...           0.0\n",
            "12527                       120.726562  ...           0.0\n",
            "\n",
            "[12528 rows x 9 columns]\n"
          ],
          "name": "stdout"
        }
      ]
    },
    {
      "cell_type": "markdown",
      "metadata": {
        "id": "nQwXaA-16Dm0"
      },
      "source": [
        "Checking the columns or the features, I am going to work with. It is important to know these, because sometimes dataset has some parameters which might not be equally important for our work and we can work without that particular column, that can be known with more and more data visualisation. "
      ]
    },
    {
      "cell_type": "code",
      "metadata": {
        "colab": {
          "base_uri": "https://localhost:8080/"
        },
        "id": "XD7lRGGi4AWL",
        "outputId": "fc3e501c-8a7e-4c30-a8c7-7b67b220b023"
      },
      "source": [
        "dataset.columns"
      ],
      "execution_count": null,
      "outputs": [
        {
          "output_type": "execute_result",
          "data": {
            "text/plain": [
              "Index([' Mean of the integrated profile',\n",
              "       ' Standard deviation of the integrated profile',\n",
              "       ' Excess kurtosis of the integrated profile',\n",
              "       ' Skewness of the integrated profile', ' Mean of the DM-SNR curve',\n",
              "       ' Standard deviation of the DM-SNR curve',\n",
              "       ' Excess kurtosis of the DM-SNR curve', ' Skewness of the DM-SNR curve',\n",
              "       'target_class'],\n",
              "      dtype='object')"
            ]
          },
          "metadata": {
            "tags": []
          },
          "execution_count": 8
        }
      ]
    },
    {
      "cell_type": "markdown",
      "metadata": {
        "id": "vVW2MJSz6Ymf"
      },
      "source": [
        "We can see there are 8-9 columns and for pulsars they look pretty important. I will decide the importance of the features in feature selection."
      ]
    },
    {
      "cell_type": "code",
      "metadata": {
        "colab": {
          "base_uri": "https://localhost:8080/",
          "height": 396
        },
        "id": "5W2zOfnm4FUl",
        "outputId": "46acc676-1be9-4db4-c80e-9566f834b8f6"
      },
      "source": [
        "dataset.head(9)"
      ],
      "execution_count": null,
      "outputs": [
        {
          "output_type": "execute_result",
          "data": {
            "text/html": [
              "<div>\n",
              "<style scoped>\n",
              "    .dataframe tbody tr th:only-of-type {\n",
              "        vertical-align: middle;\n",
              "    }\n",
              "\n",
              "    .dataframe tbody tr th {\n",
              "        vertical-align: top;\n",
              "    }\n",
              "\n",
              "    .dataframe thead th {\n",
              "        text-align: right;\n",
              "    }\n",
              "</style>\n",
              "<table border=\"1\" class=\"dataframe\">\n",
              "  <thead>\n",
              "    <tr style=\"text-align: right;\">\n",
              "      <th></th>\n",
              "      <th>Mean of the integrated profile</th>\n",
              "      <th>Standard deviation of the integrated profile</th>\n",
              "      <th>Excess kurtosis of the integrated profile</th>\n",
              "      <th>Skewness of the integrated profile</th>\n",
              "      <th>Mean of the DM-SNR curve</th>\n",
              "      <th>Standard deviation of the DM-SNR curve</th>\n",
              "      <th>Excess kurtosis of the DM-SNR curve</th>\n",
              "      <th>Skewness of the DM-SNR curve</th>\n",
              "      <th>target_class</th>\n",
              "    </tr>\n",
              "  </thead>\n",
              "  <tbody>\n",
              "    <tr>\n",
              "      <th>0</th>\n",
              "      <td>121.156250</td>\n",
              "      <td>48.372971</td>\n",
              "      <td>0.375485</td>\n",
              "      <td>-0.013165</td>\n",
              "      <td>3.168896</td>\n",
              "      <td>18.399367</td>\n",
              "      <td>7.449874</td>\n",
              "      <td>65.159298</td>\n",
              "      <td>0.0</td>\n",
              "    </tr>\n",
              "    <tr>\n",
              "      <th>1</th>\n",
              "      <td>76.968750</td>\n",
              "      <td>36.175557</td>\n",
              "      <td>0.712898</td>\n",
              "      <td>3.388719</td>\n",
              "      <td>2.399666</td>\n",
              "      <td>17.570997</td>\n",
              "      <td>9.414652</td>\n",
              "      <td>102.722975</td>\n",
              "      <td>0.0</td>\n",
              "    </tr>\n",
              "    <tr>\n",
              "      <th>2</th>\n",
              "      <td>130.585938</td>\n",
              "      <td>53.229534</td>\n",
              "      <td>0.133408</td>\n",
              "      <td>-0.297242</td>\n",
              "      <td>2.743311</td>\n",
              "      <td>22.362553</td>\n",
              "      <td>8.508364</td>\n",
              "      <td>74.031324</td>\n",
              "      <td>0.0</td>\n",
              "    </tr>\n",
              "    <tr>\n",
              "      <th>3</th>\n",
              "      <td>156.398438</td>\n",
              "      <td>48.865942</td>\n",
              "      <td>-0.215989</td>\n",
              "      <td>-0.171294</td>\n",
              "      <td>17.471572</td>\n",
              "      <td>NaN</td>\n",
              "      <td>2.958066</td>\n",
              "      <td>7.197842</td>\n",
              "      <td>0.0</td>\n",
              "    </tr>\n",
              "    <tr>\n",
              "      <th>4</th>\n",
              "      <td>84.804688</td>\n",
              "      <td>36.117659</td>\n",
              "      <td>0.825013</td>\n",
              "      <td>3.274125</td>\n",
              "      <td>2.790134</td>\n",
              "      <td>20.618009</td>\n",
              "      <td>8.405008</td>\n",
              "      <td>76.291128</td>\n",
              "      <td>0.0</td>\n",
              "    </tr>\n",
              "    <tr>\n",
              "      <th>5</th>\n",
              "      <td>121.007812</td>\n",
              "      <td>47.176944</td>\n",
              "      <td>0.229708</td>\n",
              "      <td>0.091336</td>\n",
              "      <td>2.036789</td>\n",
              "      <td>NaN</td>\n",
              "      <td>9.546051</td>\n",
              "      <td>112.131721</td>\n",
              "      <td>0.0</td>\n",
              "    </tr>\n",
              "    <tr>\n",
              "      <th>6</th>\n",
              "      <td>79.343750</td>\n",
              "      <td>42.402174</td>\n",
              "      <td>1.063413</td>\n",
              "      <td>2.244377</td>\n",
              "      <td>141.641304</td>\n",
              "      <td>NaN</td>\n",
              "      <td>-0.700809</td>\n",
              "      <td>-1.200653</td>\n",
              "      <td>0.0</td>\n",
              "    </tr>\n",
              "    <tr>\n",
              "      <th>7</th>\n",
              "      <td>109.406250</td>\n",
              "      <td>55.912521</td>\n",
              "      <td>0.565106</td>\n",
              "      <td>0.056247</td>\n",
              "      <td>2.797659</td>\n",
              "      <td>19.496527</td>\n",
              "      <td>9.443282</td>\n",
              "      <td>97.374578</td>\n",
              "      <td>0.0</td>\n",
              "    </tr>\n",
              "    <tr>\n",
              "      <th>8</th>\n",
              "      <td>95.007812</td>\n",
              "      <td>40.219805</td>\n",
              "      <td>0.347578</td>\n",
              "      <td>1.153164</td>\n",
              "      <td>2.770067</td>\n",
              "      <td>18.217741</td>\n",
              "      <td>7.851205</td>\n",
              "      <td>70.801938</td>\n",
              "      <td>0.0</td>\n",
              "    </tr>\n",
              "  </tbody>\n",
              "</table>\n",
              "</div>"
            ],
            "text/plain": [
              "    Mean of the integrated profile  ...  target_class\n",
              "0                       121.156250  ...           0.0\n",
              "1                        76.968750  ...           0.0\n",
              "2                       130.585938  ...           0.0\n",
              "3                       156.398438  ...           0.0\n",
              "4                        84.804688  ...           0.0\n",
              "5                       121.007812  ...           0.0\n",
              "6                        79.343750  ...           0.0\n",
              "7                       109.406250  ...           0.0\n",
              "8                        95.007812  ...           0.0\n",
              "\n",
              "[9 rows x 9 columns]"
            ]
          },
          "metadata": {
            "tags": []
          },
          "execution_count": 9
        }
      ]
    },
    {
      "cell_type": "markdown",
      "metadata": {
        "id": "7t9DCfT36hOD"
      },
      "source": [
        "I get one important insight from the above table, that is there are some values which are NAN, empty or infinite but they will be treated as outliers only.\r\n",
        "\r\n",
        "Checking the data to gain more intuitive insights, which is always a good practice."
      ]
    },
    {
      "cell_type": "code",
      "metadata": {
        "colab": {
          "base_uri": "https://localhost:8080/",
          "height": 385
        },
        "id": "DLx_vbBv5gwH",
        "outputId": "d3adac78-71e5-4e71-e631-5784a82fda43"
      },
      "source": [
        "dataset.describe(include='all')"
      ],
      "execution_count": null,
      "outputs": [
        {
          "output_type": "execute_result",
          "data": {
            "text/html": [
              "<div>\n",
              "<style scoped>\n",
              "    .dataframe tbody tr th:only-of-type {\n",
              "        vertical-align: middle;\n",
              "    }\n",
              "\n",
              "    .dataframe tbody tr th {\n",
              "        vertical-align: top;\n",
              "    }\n",
              "\n",
              "    .dataframe thead th {\n",
              "        text-align: right;\n",
              "    }\n",
              "</style>\n",
              "<table border=\"1\" class=\"dataframe\">\n",
              "  <thead>\n",
              "    <tr style=\"text-align: right;\">\n",
              "      <th></th>\n",
              "      <th>Mean of the integrated profile</th>\n",
              "      <th>Standard deviation of the integrated profile</th>\n",
              "      <th>Excess kurtosis of the integrated profile</th>\n",
              "      <th>Skewness of the integrated profile</th>\n",
              "      <th>Mean of the DM-SNR curve</th>\n",
              "      <th>Standard deviation of the DM-SNR curve</th>\n",
              "      <th>Excess kurtosis of the DM-SNR curve</th>\n",
              "      <th>Skewness of the DM-SNR curve</th>\n",
              "      <th>target_class</th>\n",
              "    </tr>\n",
              "  </thead>\n",
              "  <tbody>\n",
              "    <tr>\n",
              "      <th>count</th>\n",
              "      <td>12528.000000</td>\n",
              "      <td>12528.000000</td>\n",
              "      <td>10793.000000</td>\n",
              "      <td>12528.000000</td>\n",
              "      <td>12528.000000</td>\n",
              "      <td>11350.000000</td>\n",
              "      <td>12528.000000</td>\n",
              "      <td>11903.000000</td>\n",
              "      <td>12528.000000</td>\n",
              "    </tr>\n",
              "    <tr>\n",
              "      <th>mean</th>\n",
              "      <td>111.041841</td>\n",
              "      <td>46.521437</td>\n",
              "      <td>0.478548</td>\n",
              "      <td>1.778431</td>\n",
              "      <td>12.674758</td>\n",
              "      <td>26.351318</td>\n",
              "      <td>8.333489</td>\n",
              "      <td>105.525779</td>\n",
              "      <td>0.092034</td>\n",
              "    </tr>\n",
              "    <tr>\n",
              "      <th>std</th>\n",
              "      <td>25.672828</td>\n",
              "      <td>6.801077</td>\n",
              "      <td>1.064708</td>\n",
              "      <td>6.208450</td>\n",
              "      <td>29.613230</td>\n",
              "      <td>19.610842</td>\n",
              "      <td>4.535783</td>\n",
              "      <td>107.399585</td>\n",
              "      <td>0.289085</td>\n",
              "    </tr>\n",
              "    <tr>\n",
              "      <th>min</th>\n",
              "      <td>5.812500</td>\n",
              "      <td>24.772042</td>\n",
              "      <td>-1.738021</td>\n",
              "      <td>-1.791886</td>\n",
              "      <td>0.213211</td>\n",
              "      <td>7.370432</td>\n",
              "      <td>-3.139270</td>\n",
              "      <td>-1.976976</td>\n",
              "      <td>0.000000</td>\n",
              "    </tr>\n",
              "    <tr>\n",
              "      <th>25%</th>\n",
              "      <td>100.871094</td>\n",
              "      <td>42.362222</td>\n",
              "      <td>0.024652</td>\n",
              "      <td>-0.188142</td>\n",
              "      <td>1.910535</td>\n",
              "      <td>14.404353</td>\n",
              "      <td>5.803063</td>\n",
              "      <td>35.199899</td>\n",
              "      <td>0.000000</td>\n",
              "    </tr>\n",
              "    <tr>\n",
              "      <th>50%</th>\n",
              "      <td>115.183594</td>\n",
              "      <td>46.931022</td>\n",
              "      <td>0.223678</td>\n",
              "      <td>0.203317</td>\n",
              "      <td>2.792642</td>\n",
              "      <td>18.412402</td>\n",
              "      <td>8.451097</td>\n",
              "      <td>83.126301</td>\n",
              "      <td>0.000000</td>\n",
              "    </tr>\n",
              "    <tr>\n",
              "      <th>75%</th>\n",
              "      <td>127.109375</td>\n",
              "      <td>50.979103</td>\n",
              "      <td>0.473125</td>\n",
              "      <td>0.932374</td>\n",
              "      <td>5.413253</td>\n",
              "      <td>28.337418</td>\n",
              "      <td>10.727927</td>\n",
              "      <td>139.997850</td>\n",
              "      <td>0.000000</td>\n",
              "    </tr>\n",
              "    <tr>\n",
              "      <th>max</th>\n",
              "      <td>189.734375</td>\n",
              "      <td>91.808628</td>\n",
              "      <td>8.069522</td>\n",
              "      <td>68.101622</td>\n",
              "      <td>222.421405</td>\n",
              "      <td>110.642211</td>\n",
              "      <td>34.539844</td>\n",
              "      <td>1191.000837</td>\n",
              "      <td>1.000000</td>\n",
              "    </tr>\n",
              "  </tbody>\n",
              "</table>\n",
              "</div>"
            ],
            "text/plain": [
              "        Mean of the integrated profile  ...  target_class\n",
              "count                     12528.000000  ...  12528.000000\n",
              "mean                        111.041841  ...      0.092034\n",
              "std                          25.672828  ...      0.289085\n",
              "min                           5.812500  ...      0.000000\n",
              "25%                         100.871094  ...      0.000000\n",
              "50%                         115.183594  ...      0.000000\n",
              "75%                         127.109375  ...      0.000000\n",
              "max                         189.734375  ...      1.000000\n",
              "\n",
              "[8 rows x 9 columns]"
            ]
          },
          "metadata": {
            "tags": []
          },
          "execution_count": 10
        }
      ]
    },
    {
      "cell_type": "markdown",
      "metadata": {
        "id": "UHf8WNsl62B9"
      },
      "source": [
        "As I could earlier see NAN values, thus going for the important statistical parameters using the describle function. I can see that although total elements are 12528 but some columns have entries less than that, that is there are empty pockets.\r\n",
        "\r\n",
        "It will be more clear if we try to form these data distribution. As I can see the describe function gives me parameters for integrated profile as well as DM-SNR curve. \r\n",
        "\r\n",
        "Physically speaking, one major parameter for Pulsars are indeed Dispersion Measure and how it behaves with Signal-to-Noise Ratio. "
      ]
    },
    {
      "cell_type": "code",
      "metadata": {
        "colab": {
          "base_uri": "https://localhost:8080/"
        },
        "id": "OT6TF-7U5v6O",
        "outputId": "527af8e4-9e8e-4ee9-80e3-67879d035a5b"
      },
      "source": [
        "dataset.dtypes"
      ],
      "execution_count": null,
      "outputs": [
        {
          "output_type": "execute_result",
          "data": {
            "text/plain": [
              " Mean of the integrated profile                  float64\n",
              " Standard deviation of the integrated profile    float64\n",
              " Excess kurtosis of the integrated profile       float64\n",
              " Skewness of the integrated profile              float64\n",
              " Mean of the DM-SNR curve                        float64\n",
              " Standard deviation of the DM-SNR curve          float64\n",
              " Excess kurtosis of the DM-SNR curve             float64\n",
              " Skewness of the DM-SNR curve                    float64\n",
              "target_class                                     float64\n",
              "dtype: object"
            ]
          },
          "metadata": {
            "tags": []
          },
          "execution_count": 11
        }
      ]
    },
    {
      "cell_type": "markdown",
      "metadata": {
        "id": "3pacrR5nC13a"
      },
      "source": [
        "Thus I can now be sure of one thing, all are integer or numeric type features, there is nothing here which are textual or need to be taken care of. "
      ]
    },
    {
      "cell_type": "markdown",
      "metadata": {
        "id": "4KzY2VO28GB2"
      },
      "source": [
        "## Visualisation of data \r\n",
        "\r\n",
        "I will be using seaborn and matplotlib to make some visual insights for the data. I will import them here for now."
      ]
    },
    {
      "cell_type": "code",
      "metadata": {
        "id": "tCmv6BUO74Ns"
      },
      "source": [
        "import seaborn as sns\r\n",
        "import matplotlib.pyplot as plt"
      ],
      "execution_count": null,
      "outputs": []
    },
    {
      "cell_type": "code",
      "metadata": {
        "colab": {
          "base_uri": "https://localhost:8080/",
          "height": 493
        },
        "id": "MQrUDwDm8bMG",
        "outputId": "4a2c2520-0238-49c3-c95f-25972ae85273"
      },
      "source": [
        "sns.heatmap(dataset.isnull(), yticklabels=False, cbar=False, cmap='viridis')"
      ],
      "execution_count": null,
      "outputs": [
        {
          "output_type": "execute_result",
          "data": {
            "text/plain": [
              "<matplotlib.axes._subplots.AxesSubplot at 0x7fa1c88b3470>"
            ]
          },
          "metadata": {
            "tags": []
          },
          "execution_count": 13
        },
        {
          "output_type": "display_data",
          "data": {
            "image/png": "[encoded data removed]",
            "text/plain": [
              "<Figure size 432x288 with 1 Axes>"
            ]
          },
          "metadata": {
            "tags": [],
            "needs_background": "light"
          }
        }
      ]
    },
    {
      "cell_type": "markdown",
      "metadata": {
        "id": "3sCe9w1r8oCT"
      },
      "source": [
        "As suspected the three columns are indeed showing a lot of empty values\r\n",
        "\r\n",
        "Trying to find where these empty values are: "
      ]
    },
    {
      "cell_type": "code",
      "metadata": {
        "colab": {
          "base_uri": "https://localhost:8080/"
        },
        "id": "_0unblsC8g5T",
        "outputId": "796f9e7a-1740-4bfd-e5b7-c8b559d8f85b"
      },
      "source": [
        "dataset.isnull().sum()"
      ],
      "execution_count": null,
      "outputs": [
        {
          "output_type": "execute_result",
          "data": {
            "text/plain": [
              " Mean of the integrated profile                     0\n",
              " Standard deviation of the integrated profile       0\n",
              " Excess kurtosis of the integrated profile       1735\n",
              " Skewness of the integrated profile                 0\n",
              " Mean of the DM-SNR curve                           0\n",
              " Standard deviation of the DM-SNR curve          1178\n",
              " Excess kurtosis of the DM-SNR curve                0\n",
              " Skewness of the DM-SNR curve                     625\n",
              "target_class                                        0\n",
              "dtype: int64"
            ]
          },
          "metadata": {
            "tags": []
          },
          "execution_count": 14
        }
      ]
    },
    {
      "cell_type": "code",
      "metadata": {
        "colab": {
          "base_uri": "https://localhost:8080/"
        },
        "id": "To_WZJYR-UOL",
        "outputId": "b0d9e3ea-959c-474b-c838-040b3fcdfd36"
      },
      "source": [
        "dataset['target_class'].tail(10)"
      ],
      "execution_count": null,
      "outputs": [
        {
          "output_type": "execute_result",
          "data": {
            "text/plain": [
              "12518    0.0\n",
              "12519    0.0\n",
              "12520    0.0\n",
              "12521    1.0\n",
              "12522    0.0\n",
              "12523    0.0\n",
              "12524    0.0\n",
              "12525    0.0\n",
              "12526    0.0\n",
              "12527    0.0\n",
              "Name: target_class, dtype: float64"
            ]
          },
          "metadata": {
            "tags": []
          },
          "execution_count": 15
        }
      ]
    },
    {
      "cell_type": "markdown",
      "metadata": {
        "id": "_VLecnBLCS_0"
      },
      "source": [
        "To check how many positive candidates are there which will be actually helpful in training my model to detect pulsars."
      ]
    },
    {
      "cell_type": "code",
      "metadata": {
        "colab": {
          "base_uri": "https://localhost:8080/"
        },
        "id": "d4JcViOI-Zsl",
        "outputId": "988f28f6-d38f-48c6-de94-a92cd4a16e75"
      },
      "source": [
        "count= len(dataset[dataset['target_class']==1])\r\n",
        "print(\"Number of positive candidates: {}\".format(count))\r\n",
        "print(\"Number of negative candidates: {}\".format(len(dataset)-count))"
      ],
      "execution_count": null,
      "outputs": [
        {
          "output_type": "stream",
          "text": [
            "Number of positive candidates: 1153\n",
            "Number of negative candidates: 11375\n"
          ],
          "name": "stdout"
        }
      ]
    },
    {
      "cell_type": "code",
      "metadata": {
        "colab": {
          "base_uri": "https://localhost:8080/",
          "height": 1000
        },
        "id": "OvncNtd-D4qo",
        "outputId": "c1e24216-3b8a-478e-ef0a-f94f27531fa7"
      },
      "source": [
        "dataset.columns[:-1].size\r\n",
        "fig, axes = plt.subplots(nrows=len(dataset.columns[:-1]),ncols=1,  figsize=(15, 40))\r\n",
        "for i in range(len(dataset.columns[:-1])):\r\n",
        "    feature = dataset.columns[i]\r\n",
        "    plt.figure(figsize = (5, 5))\r\n",
        "    data=dataset.copy()\r\n",
        "    sns.histplot(x=data[feature].dropna(), ax=axes[i])"
      ],
      "execution_count": null,
      "outputs": [
        {
          "output_type": "display_data",
          "data": {
            "image/png": "[encoded data removed]",
            "text/plain": [
              "<Figure size 1080x2880 with 8 Axes>"
            ]
          },
          "metadata": {
            "tags": [],
            "needs_background": "light"
          }
        },
        {
          "output_type": "display_data",
          "data": {
            "text/plain": [
              "<Figure size 360x360 with 0 Axes>"
            ]
          },
          "metadata": {
            "tags": []
          }
        },
        {
          "output_type": "display_data",
          "data": {
            "text/plain": [
              "<Figure size 360x360 with 0 Axes>"
            ]
          },
          "metadata": {
            "tags": []
          }
        },
        {
          "output_type": "display_data",
          "data": {
            "text/plain": [
              "<Figure size 360x360 with 0 Axes>"
            ]
          },
          "metadata": {
            "tags": []
          }
        },
        {
          "output_type": "display_data",
          "data": {
            "text/plain": [
              "<Figure size 360x360 with 0 Axes>"
            ]
          },
          "metadata": {
            "tags": []
          }
        },
        {
          "output_type": "display_data",
          "data": {
            "text/plain": [
              "<Figure size 360x360 with 0 Axes>"
            ]
          },
          "metadata": {
            "tags": []
          }
        },
        {
          "output_type": "display_data",
          "data": {
            "text/plain": [
              "<Figure size 360x360 with 0 Axes>"
            ]
          },
          "metadata": {
            "tags": []
          }
        },
        {
          "output_type": "display_data",
          "data": {
            "text/plain": [
              "<Figure size 360x360 with 0 Axes>"
            ]
          },
          "metadata": {
            "tags": []
          }
        },
        {
          "output_type": "display_data",
          "data": {
            "text/plain": [
              "<Figure size 360x360 with 0 Axes>"
            ]
          },
          "metadata": {
            "tags": []
          }
        }
      ]
    },
    {
      "cell_type": "markdown",
      "metadata": {
        "id": "CWR-2AiL0--_"
      },
      "source": [
        "There indeed is some need of data normalisation as although almost all data is normalised functions but still we cannot afford to have a biased data.\r\n",
        "\r\n",
        "Target Class based plotting can give us more help to know what are the trends for pulsars and what are the trends for other objects in the dataset."
      ]
    },
    {
      "cell_type": "code",
      "metadata": {
        "colab": {
          "base_uri": "https://localhost:8080/",
          "height": 1000
        },
        "id": "YJD8b_Ft01ne",
        "outputId": "f15d694d-4f37-4ec7-ccb2-1c86ddbd508e"
      },
      "source": [
        "data_copy= dataset.copy()\r\n",
        "for features in dataset.columns[:-1]:\r\n",
        "    plt.figure(figsize = (10, 5))\r\n",
        "    sns.boxplot(x = 'target_class', y = features, data = data_copy)\r\n",
        "    plt.grid()\r\n",
        "    plt.show()"
      ],
      "execution_count": null,
      "outputs": [
        {
          "output_type": "display_data",
          "data": {
            "image/png": "[encoded data removed]",
            "text/plain": [
              "<Figure size 720x360 with 1 Axes>"
            ]
          },
          "metadata": {
            "tags": [],
            "needs_background": "light"
          }
        },
        {
          "output_type": "display_data",
          "data": {
            "image/png": "[encoded data removed]",
            "text/plain": [
              "<Figure size 720x360 with 1 Axes>"
            ]
          },
          "metadata": {
            "tags": [],
            "needs_background": "light"
          }
        },
        {
          "output_type": "display_data",
          "data": {
            "image/png": "[encoded data removed]",
            "text/plain": [
              "<Figure size 720x360 with 1 Axes>"
            ]
          },
          "metadata": {
            "tags": [],
            "needs_background": "light"
          }
        },
        {
          "output_type": "display_data",
          "data": {
            "image/png": "[encoded data removed]",
            "text/plain": [
              "<Figure size 720x360 with 1 Axes>"
            ]
          },
          "metadata": {
            "tags": [],
            "needs_background": "light"
          }
        },
        {
          "output_type": "display_data",
          "data": {
            "image/png": "[encoded data removed]",
            "text/plain": [
              "<Figure size 720x360 with 1 Axes>"
            ]
          },
          "metadata": {
            "tags": [],
            "needs_background": "light"
          }
        },
        {
          "output_type": "display_data",
          "data": {
            "image/png": "[encoded data removed]",
            "text/plain": [
              "<Figure size 720x360 with 1 Axes>"
            ]
          },
          "metadata": {
            "tags": [],
            "needs_background": "light"
          }
        },
        {
          "output_type": "display_data",
          "data": {
            "image/png": "[encoded data removed]",
            "text/plain": [
              "<Figure size 720x360 with 1 Axes>"
            ]
          },
          "metadata": {
            "tags": [],
            "needs_background": "light"
          }
        },
        {
          "output_type": "display_data",
          "data": {
            "image/png": "[encoded data removed]",
            "text/plain": [
              "<Figure size 720x360 with 1 Axes>"
            ]
          },
          "metadata": {
            "tags": [],
            "needs_background": "light"
          }
        }
      ]
    },
    {
      "cell_type": "markdown",
      "metadata": {
        "id": "PUh50_Yu4OtI"
      },
      "source": [
        "Now some data was missing, I can go in two ways, either to just ignore those data points completely, or to somehow predict those missing values to a very good accuracy and then consider that filled dataset for model.\r\n",
        "\r\n",
        "I will go for the second choice as you can already see, there are very less positive pulsars to train the model for true results, we cannot afford to discard any of those data. \r\n",
        "\r\n",
        "Perhaps if we know how much the 3 columns with missing values are related with the other parameters, we can choose to ignore that input feature in the model. \r\n",
        "\r\n",
        "For now I will try to fill in the values and consider complete data or I will try to ignore some features, its upto my experimentation."
      ]
    },
    {
      "cell_type": "code",
      "metadata": {
        "colab": {
          "base_uri": "https://localhost:8080/"
        },
        "id": "8hpxtdnA4G-7",
        "outputId": "fd5571b9-f845-4494-be1b-877345250e4b"
      },
      "source": [
        "dataset.isnull().sum()\r\n",
        "len(dataset)\r\n",
        "dataset.isnull().sum()/len(dataset) * 100"
      ],
      "execution_count": null,
      "outputs": [
        {
          "output_type": "execute_result",
          "data": {
            "text/plain": [
              " Mean of the integrated profile                   0.000000\n",
              " Standard deviation of the integrated profile     0.000000\n",
              " Excess kurtosis of the integrated profile       13.848978\n",
              " Skewness of the integrated profile               0.000000\n",
              " Mean of the DM-SNR curve                         0.000000\n",
              " Standard deviation of the DM-SNR curve           9.402937\n",
              " Excess kurtosis of the DM-SNR curve              0.000000\n",
              " Skewness of the DM-SNR curve                     4.988825\n",
              "target_class                                      0.000000\n",
              "dtype: float64"
            ]
          },
          "metadata": {
            "tags": []
          },
          "execution_count": 19
        }
      ]
    },
    {
      "cell_type": "markdown",
      "metadata": {
        "id": "7HuoHfNc5edW"
      },
      "source": [
        "Excess curtosis has 13% of the values as null and Std. Deviation of DM-SNR curve is also pretty close to 10%\r\n",
        "\r\n",
        "Lets try to form a dataset with null value data points only to be computed by machine.\r\n"
      ]
    },
    {
      "cell_type": "code",
      "metadata": {
        "colab": {
          "base_uri": "https://localhost:8080/",
          "height": 487
        },
        "id": "EiA4QZgn6Abu",
        "outputId": "aab471df-6c7e-478d-86c6-e92787151c36"
      },
      "source": [
        "null_dataset= dataset[dataset.isnull().any(axis=1)]\r\n",
        "null_dataset"
      ],
      "execution_count": null,
      "outputs": [
        {
          "output_type": "execute_result",
          "data": {
            "text/html": [
              "<div>\n",
              "<style scoped>\n",
              "    .dataframe tbody tr th:only-of-type {\n",
              "        vertical-align: middle;\n",
              "    }\n",
              "\n",
              "    .dataframe tbody tr th {\n",
              "        vertical-align: top;\n",
              "    }\n",
              "\n",
              "    .dataframe thead th {\n",
              "        text-align: right;\n",
              "    }\n",
              "</style>\n",
              "<table border=\"1\" class=\"dataframe\">\n",
              "  <thead>\n",
              "    <tr style=\"text-align: right;\">\n",
              "      <th></th>\n",
              "      <th>Mean of the integrated profile</th>\n",
              "      <th>Standard deviation of the integrated profile</th>\n",
              "      <th>Excess kurtosis of the integrated profile</th>\n",
              "      <th>Skewness of the integrated profile</th>\n",
              "      <th>Mean of the DM-SNR curve</th>\n",
              "      <th>Standard deviation of the DM-SNR curve</th>\n",
              "      <th>Excess kurtosis of the DM-SNR curve</th>\n",
              "      <th>Skewness of the DM-SNR curve</th>\n",
              "      <th>target_class</th>\n",
              "    </tr>\n",
              "  </thead>\n",
              "  <tbody>\n",
              "    <tr>\n",
              "      <th>3</th>\n",
              "      <td>156.398438</td>\n",
              "      <td>48.865942</td>\n",
              "      <td>-0.215989</td>\n",
              "      <td>-0.171294</td>\n",
              "      <td>17.471572</td>\n",
              "      <td>NaN</td>\n",
              "      <td>2.958066</td>\n",
              "      <td>7.197842</td>\n",
              "      <td>0.0</td>\n",
              "    </tr>\n",
              "    <tr>\n",
              "      <th>5</th>\n",
              "      <td>121.007812</td>\n",
              "      <td>47.176944</td>\n",
              "      <td>0.229708</td>\n",
              "      <td>0.091336</td>\n",
              "      <td>2.036789</td>\n",
              "      <td>NaN</td>\n",
              "      <td>9.546051</td>\n",
              "      <td>112.131721</td>\n",
              "      <td>0.0</td>\n",
              "    </tr>\n",
              "    <tr>\n",
              "      <th>6</th>\n",
              "      <td>79.343750</td>\n",
              "      <td>42.402174</td>\n",
              "      <td>1.063413</td>\n",
              "      <td>2.244377</td>\n",
              "      <td>141.641304</td>\n",
              "      <td>NaN</td>\n",
              "      <td>-0.700809</td>\n",
              "      <td>-1.200653</td>\n",
              "      <td>0.0</td>\n",
              "    </tr>\n",
              "    <tr>\n",
              "      <th>9</th>\n",
              "      <td>109.156250</td>\n",
              "      <td>47.002234</td>\n",
              "      <td>0.394182</td>\n",
              "      <td>0.190296</td>\n",
              "      <td>4.578595</td>\n",
              "      <td>NaN</td>\n",
              "      <td>5.702532</td>\n",
              "      <td>36.342493</td>\n",
              "      <td>0.0</td>\n",
              "    </tr>\n",
              "    <tr>\n",
              "      <th>13</th>\n",
              "      <td>128.734375</td>\n",
              "      <td>48.695560</td>\n",
              "      <td>NaN</td>\n",
              "      <td>0.307803</td>\n",
              "      <td>5.307692</td>\n",
              "      <td>25.162295</td>\n",
              "      <td>5.497544</td>\n",
              "      <td>32.739833</td>\n",
              "      <td>0.0</td>\n",
              "    </tr>\n",
              "    <tr>\n",
              "      <th>...</th>\n",
              "      <td>...</td>\n",
              "      <td>...</td>\n",
              "      <td>...</td>\n",
              "      <td>...</td>\n",
              "      <td>...</td>\n",
              "      <td>...</td>\n",
              "      <td>...</td>\n",
              "      <td>...</td>\n",
              "      <td>...</td>\n",
              "    </tr>\n",
              "    <tr>\n",
              "      <th>12503</th>\n",
              "      <td>132.335938</td>\n",
              "      <td>52.273362</td>\n",
              "      <td>-0.095982</td>\n",
              "      <td>-0.417207</td>\n",
              "      <td>4.736622</td>\n",
              "      <td>NaN</td>\n",
              "      <td>6.188823</td>\n",
              "      <td>38.899944</td>\n",
              "      <td>0.0</td>\n",
              "    </tr>\n",
              "    <tr>\n",
              "      <th>12504</th>\n",
              "      <td>85.015625</td>\n",
              "      <td>36.717244</td>\n",
              "      <td>NaN</td>\n",
              "      <td>2.503142</td>\n",
              "      <td>3.262542</td>\n",
              "      <td>21.981437</td>\n",
              "      <td>7.249661</td>\n",
              "      <td>54.863037</td>\n",
              "      <td>0.0</td>\n",
              "    </tr>\n",
              "    <tr>\n",
              "      <th>12506</th>\n",
              "      <td>113.750000</td>\n",
              "      <td>51.916098</td>\n",
              "      <td>0.215305</td>\n",
              "      <td>-0.216608</td>\n",
              "      <td>1.678930</td>\n",
              "      <td>11.105255</td>\n",
              "      <td>13.117945</td>\n",
              "      <td>NaN</td>\n",
              "      <td>0.0</td>\n",
              "    </tr>\n",
              "    <tr>\n",
              "      <th>12513</th>\n",
              "      <td>127.609375</td>\n",
              "      <td>53.509379</td>\n",
              "      <td>NaN</td>\n",
              "      <td>-0.564330</td>\n",
              "      <td>0.527592</td>\n",
              "      <td>8.985407</td>\n",
              "      <td>22.332707</td>\n",
              "      <td>571.169156</td>\n",
              "      <td>0.0</td>\n",
              "    </tr>\n",
              "    <tr>\n",
              "      <th>12524</th>\n",
              "      <td>115.617188</td>\n",
              "      <td>46.784600</td>\n",
              "      <td>0.218177</td>\n",
              "      <td>0.226757</td>\n",
              "      <td>6.140468</td>\n",
              "      <td>NaN</td>\n",
              "      <td>5.732201</td>\n",
              "      <td>34.357283</td>\n",
              "      <td>0.0</td>\n",
              "    </tr>\n",
              "  </tbody>\n",
              "</table>\n",
              "<p>3255 rows × 9 columns</p>\n",
              "</div>"
            ],
            "text/plain": [
              "        Mean of the integrated profile  ...  target_class\n",
              "3                           156.398438  ...           0.0\n",
              "5                           121.007812  ...           0.0\n",
              "6                            79.343750  ...           0.0\n",
              "9                           109.156250  ...           0.0\n",
              "13                          128.734375  ...           0.0\n",
              "...                                ...  ...           ...\n",
              "12503                       132.335938  ...           0.0\n",
              "12504                        85.015625  ...           0.0\n",
              "12506                       113.750000  ...           0.0\n",
              "12513                       127.609375  ...           0.0\n",
              "12524                       115.617188  ...           0.0\n",
              "\n",
              "[3255 rows x 9 columns]"
            ]
          },
          "metadata": {
            "tags": []
          },
          "execution_count": 20
        }
      ]
    },
    {
      "cell_type": "code",
      "metadata": {
        "colab": {
          "base_uri": "https://localhost:8080/"
        },
        "id": "Hpw6ph7n6RcL",
        "outputId": "1a1908a7-a07c-4826-c35f-9f3dc5db6043"
      },
      "source": [
        "length=len(null_dataset)\r\n",
        "length2=len(null_dataset[null_dataset[' Excess kurtosis of the integrated profile'].isnull() & \r\n",
        "      null_dataset[' Standard deviation of the DM-SNR curve'].isnull()])\r\n",
        "length3=len(null_dataset[null_dataset[' Excess kurtosis of the integrated profile'].isnull() & \r\n",
        "      null_dataset[' Skewness of the DM-SNR curve'].isnull()])\r\n",
        "length4= len(null_dataset[null_dataset[' Skewness of the DM-SNR curve'].isnull() &  \r\n",
        "      null_dataset[' Standard deviation of the DM-SNR curve'].isnull()])\r\n",
        "length5= len(null_dataset[null_dataset[' Excess kurtosis of the integrated profile'].isnull() & \r\n",
        "      null_dataset[' Standard deviation of the DM-SNR curve'].isnull() & \r\n",
        "      null_dataset[' Skewness of the DM-SNR curve'].isnull()])\r\n",
        "print(length)\r\n",
        "print(length2)\r\n",
        "print(length3)\r\n",
        "print(length4)\r\n",
        "print(length5)"
      ],
      "execution_count": null,
      "outputs": [
        {
          "output_type": "stream",
          "text": [
            "3255\n",
            "140\n",
            "91\n",
            "57\n",
            "5\n"
          ],
          "name": "stdout"
        }
      ]
    },
    {
      "cell_type": "code",
      "metadata": {
        "colab": {
          "base_uri": "https://localhost:8080/",
          "height": 823
        },
        "id": "hEnfiKr6Ngv2",
        "outputId": "a56b95ef-1837-43e2-eab4-ea6186a7c2c4"
      },
      "source": [
        "%matplotlib inline\r\n",
        "plt.figure(figsize = (10, 10))\r\n",
        "corr_mat = dataset.corr()\r\n",
        "sns.heatmap(corr_mat, xticklabels = corr_mat.columns, yticklabels = corr_mat.columns, annot=True)"
      ],
      "execution_count": null,
      "outputs": [
        {
          "output_type": "execute_result",
          "data": {
            "text/plain": [
              "<matplotlib.axes._subplots.AxesSubplot at 0x7fa1c13db080>"
            ]
          },
          "metadata": {
            "tags": []
          },
          "execution_count": 22
        },
        {
          "output_type": "display_data",
          "data": {
            "image/png": "[encoded data removed]",
            "text/plain": [
              "<Figure size 720x720 with 2 Axes>"
            ]
          },
          "metadata": {
            "tags": [],
            "needs_background": "light"
          }
        }
      ]
    },
    {
      "cell_type": "markdown",
      "metadata": {
        "id": "TFUnmKZ1LoJv"
      },
      "source": [
        "I will Drop some columns based on the outliers in them, their correlation with other features as well as how much of empty values were there."
      ]
    },
    {
      "cell_type": "code",
      "metadata": {
        "colab": {
          "base_uri": "https://localhost:8080/"
        },
        "id": "1Mq6VffSLncL",
        "outputId": "8d99ccf3-ac38-42a3-ac5b-eaf4dc48add1"
      },
      "source": [
        "dataset_drop= dataset.copy()\r\n",
        "dataset_drop=dataset_drop.dropna(axis=1)\r\n",
        "dataset_drop.columns"
      ],
      "execution_count": null,
      "outputs": [
        {
          "output_type": "execute_result",
          "data": {
            "text/plain": [
              "Index([' Mean of the integrated profile',\n",
              "       ' Standard deviation of the integrated profile',\n",
              "       ' Skewness of the integrated profile', ' Mean of the DM-SNR curve',\n",
              "       ' Excess kurtosis of the DM-SNR curve', 'target_class'],\n",
              "      dtype='object')"
            ]
          },
          "metadata": {
            "tags": []
          },
          "execution_count": 23
        }
      ]
    },
    {
      "cell_type": "code",
      "metadata": {
        "colab": {
          "base_uri": "https://localhost:8080/",
          "height": 548
        },
        "id": "5w_vnD1F2uTz",
        "outputId": "115d5471-03d7-40d1-e4f6-72ab1918430b"
      },
      "source": [
        "dataset_drop.head(15)"
      ],
      "execution_count": null,
      "outputs": [
        {
          "output_type": "execute_result",
          "data": {
            "text/html": [
              "<div>\n",
              "<style scoped>\n",
              "    .dataframe tbody tr th:only-of-type {\n",
              "        vertical-align: middle;\n",
              "    }\n",
              "\n",
              "    .dataframe tbody tr th {\n",
              "        vertical-align: top;\n",
              "    }\n",
              "\n",
              "    .dataframe thead th {\n",
              "        text-align: right;\n",
              "    }\n",
              "</style>\n",
              "<table border=\"1\" class=\"dataframe\">\n",
              "  <thead>\n",
              "    <tr style=\"text-align: right;\">\n",
              "      <th></th>\n",
              "      <th>Mean of the integrated profile</th>\n",
              "      <th>Standard deviation of the integrated profile</th>\n",
              "      <th>Skewness of the integrated profile</th>\n",
              "      <th>Mean of the DM-SNR curve</th>\n",
              "      <th>Excess kurtosis of the DM-SNR curve</th>\n",
              "      <th>target_class</th>\n",
              "    </tr>\n",
              "  </thead>\n",
              "  <tbody>\n",
              "    <tr>\n",
              "      <th>0</th>\n",
              "      <td>121.156250</td>\n",
              "      <td>48.372971</td>\n",
              "      <td>-0.013165</td>\n",
              "      <td>3.168896</td>\n",
              "      <td>7.449874</td>\n",
              "      <td>0.0</td>\n",
              "    </tr>\n",
              "    <tr>\n",
              "      <th>1</th>\n",
              "      <td>76.968750</td>\n",
              "      <td>36.175557</td>\n",
              "      <td>3.388719</td>\n",
              "      <td>2.399666</td>\n",
              "      <td>9.414652</td>\n",
              "      <td>0.0</td>\n",
              "    </tr>\n",
              "    <tr>\n",
              "      <th>2</th>\n",
              "      <td>130.585938</td>\n",
              "      <td>53.229534</td>\n",
              "      <td>-0.297242</td>\n",
              "      <td>2.743311</td>\n",
              "      <td>8.508364</td>\n",
              "      <td>0.0</td>\n",
              "    </tr>\n",
              "    <tr>\n",
              "      <th>3</th>\n",
              "      <td>156.398438</td>\n",
              "      <td>48.865942</td>\n",
              "      <td>-0.171294</td>\n",
              "      <td>17.471572</td>\n",
              "      <td>2.958066</td>\n",
              "      <td>0.0</td>\n",
              "    </tr>\n",
              "    <tr>\n",
              "      <th>4</th>\n",
              "      <td>84.804688</td>\n",
              "      <td>36.117659</td>\n",
              "      <td>3.274125</td>\n",
              "      <td>2.790134</td>\n",
              "      <td>8.405008</td>\n",
              "      <td>0.0</td>\n",
              "    </tr>\n",
              "    <tr>\n",
              "      <th>5</th>\n",
              "      <td>121.007812</td>\n",
              "      <td>47.176944</td>\n",
              "      <td>0.091336</td>\n",
              "      <td>2.036789</td>\n",
              "      <td>9.546051</td>\n",
              "      <td>0.0</td>\n",
              "    </tr>\n",
              "    <tr>\n",
              "      <th>6</th>\n",
              "      <td>79.343750</td>\n",
              "      <td>42.402174</td>\n",
              "      <td>2.244377</td>\n",
              "      <td>141.641304</td>\n",
              "      <td>-0.700809</td>\n",
              "      <td>0.0</td>\n",
              "    </tr>\n",
              "    <tr>\n",
              "      <th>7</th>\n",
              "      <td>109.406250</td>\n",
              "      <td>55.912521</td>\n",
              "      <td>0.056247</td>\n",
              "      <td>2.797659</td>\n",
              "      <td>9.443282</td>\n",
              "      <td>0.0</td>\n",
              "    </tr>\n",
              "    <tr>\n",
              "      <th>8</th>\n",
              "      <td>95.007812</td>\n",
              "      <td>40.219805</td>\n",
              "      <td>1.153164</td>\n",
              "      <td>2.770067</td>\n",
              "      <td>7.851205</td>\n",
              "      <td>0.0</td>\n",
              "    </tr>\n",
              "    <tr>\n",
              "      <th>9</th>\n",
              "      <td>109.156250</td>\n",
              "      <td>47.002234</td>\n",
              "      <td>0.190296</td>\n",
              "      <td>4.578595</td>\n",
              "      <td>5.702532</td>\n",
              "      <td>0.0</td>\n",
              "    </tr>\n",
              "    <tr>\n",
              "      <th>10</th>\n",
              "      <td>130.085938</td>\n",
              "      <td>46.402624</td>\n",
              "      <td>-0.034468</td>\n",
              "      <td>5.050167</td>\n",
              "      <td>6.059849</td>\n",
              "      <td>0.0</td>\n",
              "    </tr>\n",
              "    <tr>\n",
              "      <th>11</th>\n",
              "      <td>96.937500</td>\n",
              "      <td>40.537357</td>\n",
              "      <td>0.755829</td>\n",
              "      <td>1.971572</td>\n",
              "      <td>11.629120</td>\n",
              "      <td>0.0</td>\n",
              "    </tr>\n",
              "    <tr>\n",
              "      <th>12</th>\n",
              "      <td>146.695312</td>\n",
              "      <td>47.806177</td>\n",
              "      <td>0.554926</td>\n",
              "      <td>2.885452</td>\n",
              "      <td>9.792421</td>\n",
              "      <td>0.0</td>\n",
              "    </tr>\n",
              "    <tr>\n",
              "      <th>13</th>\n",
              "      <td>128.734375</td>\n",
              "      <td>48.695560</td>\n",
              "      <td>0.307803</td>\n",
              "      <td>5.307692</td>\n",
              "      <td>5.497544</td>\n",
              "      <td>0.0</td>\n",
              "    </tr>\n",
              "    <tr>\n",
              "      <th>14</th>\n",
              "      <td>102.367188</td>\n",
              "      <td>49.842074</td>\n",
              "      <td>0.180465</td>\n",
              "      <td>1.918896</td>\n",
              "      <td>11.044508</td>\n",
              "      <td>0.0</td>\n",
              "    </tr>\n",
              "  </tbody>\n",
              "</table>\n",
              "</div>"
            ],
            "text/plain": [
              "     Mean of the integrated profile  ...  target_class\n",
              "0                        121.156250  ...           0.0\n",
              "1                         76.968750  ...           0.0\n",
              "2                        130.585938  ...           0.0\n",
              "3                        156.398438  ...           0.0\n",
              "4                         84.804688  ...           0.0\n",
              "5                        121.007812  ...           0.0\n",
              "6                         79.343750  ...           0.0\n",
              "7                        109.406250  ...           0.0\n",
              "8                         95.007812  ...           0.0\n",
              "9                        109.156250  ...           0.0\n",
              "10                       130.085938  ...           0.0\n",
              "11                        96.937500  ...           0.0\n",
              "12                       146.695312  ...           0.0\n",
              "13                       128.734375  ...           0.0\n",
              "14                       102.367188  ...           0.0\n",
              "\n",
              "[15 rows x 6 columns]"
            ]
          },
          "metadata": {
            "tags": []
          },
          "execution_count": 24
        }
      ]
    },
    {
      "cell_type": "markdown",
      "metadata": {
        "id": "DWNxZ0nd99MG"
      },
      "source": [
        "##DataLoader and Pytorch-ready data"
      ]
    },
    {
      "cell_type": "code",
      "metadata": {
        "id": "e0-rduqy890q",
        "colab": {
          "base_uri": "https://localhost:8080/"
        },
        "outputId": "b901ad74-fa66-43aa-a1d0-14319e0de8d9"
      },
      "source": [
        "input_cols= [title for title in dataset_drop.columns[:-1]]\r\n",
        "output_cols= [dataset_drop.columns[-1]]\r\n",
        "input_cols, output_cols"
      ],
      "execution_count": null,
      "outputs": [
        {
          "output_type": "execute_result",
          "data": {
            "text/plain": [
              "([' Mean of the integrated profile',\n",
              "  ' Standard deviation of the integrated profile',\n",
              "  ' Skewness of the integrated profile',\n",
              "  ' Mean of the DM-SNR curve',\n",
              "  ' Excess kurtosis of the DM-SNR curve'],\n",
              " ['target_class'])"
            ]
          },
          "metadata": {
            "tags": []
          },
          "execution_count": 25
        }
      ]
    },
    {
      "cell_type": "code",
      "metadata": {
        "colab": {
          "base_uri": "https://localhost:8080/"
        },
        "id": "6rlfbSbx-Zm4",
        "outputId": "a0ba18a3-3f77-4b4d-fc92-74b718d07b5b"
      },
      "source": [
        "inputs_array = dataset_drop[input_cols].to_numpy()\r\n",
        "targets_array = dataset_drop[output_cols].to_numpy()\r\n",
        "inputs_array, targets_array"
      ],
      "execution_count": null,
      "outputs": [
        {
          "output_type": "execute_result",
          "data": {
            "text/plain": [
              "(array([[ 1.21156250e+02,  4.83729711e+01, -1.31654890e-02,\n",
              "          3.16889632e+00,  7.44987415e+00],\n",
              "        [ 7.69687500e+01,  3.61755566e+01,  3.38871856e+00,\n",
              "          2.39966555e+00,  9.41465226e+00],\n",
              "        [ 1.30585938e+02,  5.32295335e+01, -2.97241641e-01,\n",
              "          2.74331104e+00,  8.50836378e+00],\n",
              "        ...,\n",
              "        [ 1.16031250e+02,  4.32138464e+01,  4.33087971e-01,\n",
              "          7.85117057e-01,  1.70552145e+01],\n",
              "        [ 1.35664062e+02,  4.99337494e+01, -2.26726179e-01,\n",
              "          3.85953177e+00,  7.39839490e+00],\n",
              "        [ 1.20726562e+02,  5.04722564e+01,  1.84797225e-01,\n",
              "          7.69230769e-01,  1.76622219e+01]]), array([[0.],\n",
              "        [0.],\n",
              "        [0.],\n",
              "        ...,\n",
              "        [0.],\n",
              "        [0.],\n",
              "        [0.]]))"
            ]
          },
          "metadata": {
            "tags": []
          },
          "execution_count": 26
        }
      ]
    },
    {
      "cell_type": "code",
      "metadata": {
        "colab": {
          "base_uri": "https://localhost:8080/"
        },
        "id": "VjnqKDGjjSB_",
        "outputId": "4109394e-9f77-4c1c-849f-55a71b67e08c"
      },
      "source": [
        "targets_array.shape"
      ],
      "execution_count": null,
      "outputs": [
        {
          "output_type": "execute_result",
          "data": {
            "text/plain": [
              "(12528, 1)"
            ]
          },
          "metadata": {
            "tags": []
          },
          "execution_count": 27
        }
      ]
    },
    {
      "cell_type": "code",
      "metadata": {
        "colab": {
          "base_uri": "https://localhost:8080/",
          "height": 314
        },
        "id": "tTU9hiyMc55W",
        "outputId": "af0f3430-a16f-4189-89a2-38bc05e4bf81"
      },
      "source": [
        "dataset_drop[input_cols].describe()"
      ],
      "execution_count": null,
      "outputs": [
        {
          "output_type": "execute_result",
          "data": {
            "text/html": [
              "<div>\n",
              "<style scoped>\n",
              "    .dataframe tbody tr th:only-of-type {\n",
              "        vertical-align: middle;\n",
              "    }\n",
              "\n",
              "    .dataframe tbody tr th {\n",
              "        vertical-align: top;\n",
              "    }\n",
              "\n",
              "    .dataframe thead th {\n",
              "        text-align: right;\n",
              "    }\n",
              "</style>\n",
              "<table border=\"1\" class=\"dataframe\">\n",
              "  <thead>\n",
              "    <tr style=\"text-align: right;\">\n",
              "      <th></th>\n",
              "      <th>Mean of the integrated profile</th>\n",
              "      <th>Standard deviation of the integrated profile</th>\n",
              "      <th>Skewness of the integrated profile</th>\n",
              "      <th>Mean of the DM-SNR curve</th>\n",
              "      <th>Excess kurtosis of the DM-SNR curve</th>\n",
              "    </tr>\n",
              "  </thead>\n",
              "  <tbody>\n",
              "    <tr>\n",
              "      <th>count</th>\n",
              "      <td>12528.000000</td>\n",
              "      <td>12528.000000</td>\n",
              "      <td>12528.000000</td>\n",
              "      <td>12528.000000</td>\n",
              "      <td>12528.000000</td>\n",
              "    </tr>\n",
              "    <tr>\n",
              "      <th>mean</th>\n",
              "      <td>111.041841</td>\n",
              "      <td>46.521437</td>\n",
              "      <td>1.778431</td>\n",
              "      <td>12.674758</td>\n",
              "      <td>8.333489</td>\n",
              "    </tr>\n",
              "    <tr>\n",
              "      <th>std</th>\n",
              "      <td>25.672828</td>\n",
              "      <td>6.801077</td>\n",
              "      <td>6.208450</td>\n",
              "      <td>29.613230</td>\n",
              "      <td>4.535783</td>\n",
              "    </tr>\n",
              "    <tr>\n",
              "      <th>min</th>\n",
              "      <td>5.812500</td>\n",
              "      <td>24.772042</td>\n",
              "      <td>-1.791886</td>\n",
              "      <td>0.213211</td>\n",
              "      <td>-3.139270</td>\n",
              "    </tr>\n",
              "    <tr>\n",
              "      <th>25%</th>\n",
              "      <td>100.871094</td>\n",
              "      <td>42.362222</td>\n",
              "      <td>-0.188142</td>\n",
              "      <td>1.910535</td>\n",
              "      <td>5.803063</td>\n",
              "    </tr>\n",
              "    <tr>\n",
              "      <th>50%</th>\n",
              "      <td>115.183594</td>\n",
              "      <td>46.931022</td>\n",
              "      <td>0.203317</td>\n",
              "      <td>2.792642</td>\n",
              "      <td>8.451097</td>\n",
              "    </tr>\n",
              "    <tr>\n",
              "      <th>75%</th>\n",
              "      <td>127.109375</td>\n",
              "      <td>50.979103</td>\n",
              "      <td>0.932374</td>\n",
              "      <td>5.413253</td>\n",
              "      <td>10.727927</td>\n",
              "    </tr>\n",
              "    <tr>\n",
              "      <th>max</th>\n",
              "      <td>189.734375</td>\n",
              "      <td>91.808628</td>\n",
              "      <td>68.101622</td>\n",
              "      <td>222.421405</td>\n",
              "      <td>34.539844</td>\n",
              "    </tr>\n",
              "  </tbody>\n",
              "</table>\n",
              "</div>"
            ],
            "text/plain": [
              "        Mean of the integrated profile  ...   Excess kurtosis of the DM-SNR curve\n",
              "count                     12528.000000  ...                          12528.000000\n",
              "mean                        111.041841  ...                              8.333489\n",
              "std                          25.672828  ...                              4.535783\n",
              "min                           5.812500  ...                             -3.139270\n",
              "25%                         100.871094  ...                              5.803063\n",
              "50%                         115.183594  ...                              8.451097\n",
              "75%                         127.109375  ...                             10.727927\n",
              "max                         189.734375  ...                             34.539844\n",
              "\n",
              "[8 rows x 5 columns]"
            ]
          },
          "metadata": {
            "tags": []
          },
          "execution_count": 28
        }
      ]
    },
    {
      "cell_type": "code",
      "metadata": {
        "id": "QgJxTqCC_6rq"
      },
      "source": [
        "import torch"
      ],
      "execution_count": null,
      "outputs": []
    },
    {
      "cell_type": "code",
      "metadata": {
        "id": "aKgb1zqj-_5C"
      },
      "source": [
        "inputs= torch.tensor(inputs_array, dtype=torch.float32)\r\n",
        "targets= torch.tensor(targets_array, dtype=torch.float32)"
      ],
      "execution_count": null,
      "outputs": []
    },
    {
      "cell_type": "code",
      "metadata": {
        "colab": {
          "base_uri": "https://localhost:8080/"
        },
        "id": "apSdSV1Nji0a",
        "outputId": "3fc15382-5b06-40b0-d492-1572b5e94ac5"
      },
      "source": [
        "targets.shape"
      ],
      "execution_count": null,
      "outputs": [
        {
          "output_type": "execute_result",
          "data": {
            "text/plain": [
              "torch.Size([12528, 1])"
            ]
          },
          "metadata": {
            "tags": []
          },
          "execution_count": 31
        }
      ]
    },
    {
      "cell_type": "code",
      "metadata": {
        "id": "7YQcnGBrBZEa"
      },
      "source": [
        "from torch.utils.data import DataLoader,TensorDataset,random_split"
      ],
      "execution_count": null,
      "outputs": []
    },
    {
      "cell_type": "code",
      "metadata": {
        "id": "_ksaDWkvBL2t"
      },
      "source": [
        "data=TensorDataset(inputs, targets)"
      ],
      "execution_count": null,
      "outputs": []
    },
    {
      "cell_type": "markdown",
      "metadata": {
        "id": "snDdmQkhL95Z"
      },
      "source": [
        "Separating some part of train data for validation. As there are not a lot of Pulsar Candidates, handling data carefully becomes very important."
      ]
    },
    {
      "cell_type": "code",
      "metadata": {
        "id": "uAkSujYDBo6U"
      },
      "source": [
        "val_percent=0.11\r\n",
        "num_rows= len(dataset_drop)\r\n",
        "val_size = int(num_rows * val_percent)\r\n",
        "train_size = num_rows - val_size\r\n",
        "train_ds, val_ds= random_split(data,[train_size, val_size])"
      ],
      "execution_count": null,
      "outputs": []
    },
    {
      "cell_type": "code",
      "metadata": {
        "colab": {
          "base_uri": "https://localhost:8080/"
        },
        "id": "8aucAKsAj6U1",
        "outputId": "0d4dbbcf-0159-4fa6-d644-65109b13a9d1"
      },
      "source": [
        "len(train_ds), len(val_ds)"
      ],
      "execution_count": null,
      "outputs": [
        {
          "output_type": "execute_result",
          "data": {
            "text/plain": [
              "(11150, 1378)"
            ]
          },
          "metadata": {
            "tags": []
          },
          "execution_count": 35
        }
      ]
    },
    {
      "cell_type": "code",
      "metadata": {
        "id": "RHGG6yf2CjQs"
      },
      "source": [
        "batch_size=128"
      ],
      "execution_count": null,
      "outputs": []
    },
    {
      "cell_type": "code",
      "metadata": {
        "id": "vjCXWDEmC5UQ"
      },
      "source": [
        "train_loader = DataLoader(train_ds, batch_size, shuffle=True)\r\n",
        "val_loader = DataLoader(val_ds, batch_size)"
      ],
      "execution_count": null,
      "outputs": []
    },
    {
      "cell_type": "code",
      "metadata": {
        "id": "9nqHJ3UdC92f",
        "colab": {
          "base_uri": "https://localhost:8080/"
        },
        "outputId": "dac88b71-cbd4-4253-8c47-19251b9ebbbb"
      },
      "source": [
        "for xb, yb in train_loader:\r\n",
        "    print(\"inputs:\", xb.size())\r\n",
        "    print(\"outputs:\", yb.size())\r\n",
        "    break"
      ],
      "execution_count": null,
      "outputs": [
        {
          "output_type": "stream",
          "text": [
            "inputs: torch.Size([128, 5])\n",
            "outputs: torch.Size([128, 1])\n"
          ],
          "name": "stdout"
        }
      ]
    },
    {
      "cell_type": "code",
      "metadata": {
        "id": "pigFKCOMDXAS",
        "colab": {
          "base_uri": "https://localhost:8080/"
        },
        "outputId": "494ee6e6-827e-4e3a-ebde-3f364d7ca3ce"
      },
      "source": [
        "input_size= len(input_cols)\r\n",
        "output_size= len(output_cols)\r\n",
        "input_size,output_size"
      ],
      "execution_count": null,
      "outputs": [
        {
          "output_type": "execute_result",
          "data": {
            "text/plain": [
              "(5, 1)"
            ]
          },
          "metadata": {
            "tags": []
          },
          "execution_count": 39
        }
      ]
    },
    {
      "cell_type": "code",
      "metadata": {
        "id": "WKZqZM5qElH4"
      },
      "source": [
        ""
      ],
      "execution_count": null,
      "outputs": []
    },
    {
      "cell_type": "markdown",
      "metadata": {
        "id": "pcLCTnQcHRFe"
      },
      "source": [
        "##Outlier Treatment"
      ]
    },
    {
      "cell_type": "code",
      "metadata": {
        "colab": {
          "base_uri": "https://localhost:8080/",
          "height": 331
        },
        "id": "bbmxxekYQW1h",
        "outputId": "df1aabd5-007f-44f1-9fe4-530fcd9949e1"
      },
      "source": [
        "dataset_drop.describe()"
      ],
      "execution_count": null,
      "outputs": [
        {
          "output_type": "execute_result",
          "data": {
            "text/html": [
              "<div>\n",
              "<style scoped>\n",
              "    .dataframe tbody tr th:only-of-type {\n",
              "        vertical-align: middle;\n",
              "    }\n",
              "\n",
              "    .dataframe tbody tr th {\n",
              "        vertical-align: top;\n",
              "    }\n",
              "\n",
              "    .dataframe thead th {\n",
              "        text-align: right;\n",
              "    }\n",
              "</style>\n",
              "<table border=\"1\" class=\"dataframe\">\n",
              "  <thead>\n",
              "    <tr style=\"text-align: right;\">\n",
              "      <th></th>\n",
              "      <th>Mean of the integrated profile</th>\n",
              "      <th>Standard deviation of the integrated profile</th>\n",
              "      <th>Skewness of the integrated profile</th>\n",
              "      <th>Mean of the DM-SNR curve</th>\n",
              "      <th>Excess kurtosis of the DM-SNR curve</th>\n",
              "      <th>target_class</th>\n",
              "    </tr>\n",
              "  </thead>\n",
              "  <tbody>\n",
              "    <tr>\n",
              "      <th>count</th>\n",
              "      <td>12528.000000</td>\n",
              "      <td>12528.000000</td>\n",
              "      <td>12528.000000</td>\n",
              "      <td>12528.000000</td>\n",
              "      <td>12528.000000</td>\n",
              "      <td>12528.000000</td>\n",
              "    </tr>\n",
              "    <tr>\n",
              "      <th>mean</th>\n",
              "      <td>111.041841</td>\n",
              "      <td>46.521437</td>\n",
              "      <td>1.778431</td>\n",
              "      <td>12.674758</td>\n",
              "      <td>8.333489</td>\n",
              "      <td>0.092034</td>\n",
              "    </tr>\n",
              "    <tr>\n",
              "      <th>std</th>\n",
              "      <td>25.672828</td>\n",
              "      <td>6.801077</td>\n",
              "      <td>6.208450</td>\n",
              "      <td>29.613230</td>\n",
              "      <td>4.535783</td>\n",
              "      <td>0.289085</td>\n",
              "    </tr>\n",
              "    <tr>\n",
              "      <th>min</th>\n",
              "      <td>5.812500</td>\n",
              "      <td>24.772042</td>\n",
              "      <td>-1.791886</td>\n",
              "      <td>0.213211</td>\n",
              "      <td>-3.139270</td>\n",
              "      <td>0.000000</td>\n",
              "    </tr>\n",
              "    <tr>\n",
              "      <th>25%</th>\n",
              "      <td>100.871094</td>\n",
              "      <td>42.362222</td>\n",
              "      <td>-0.188142</td>\n",
              "      <td>1.910535</td>\n",
              "      <td>5.803063</td>\n",
              "      <td>0.000000</td>\n",
              "    </tr>\n",
              "    <tr>\n",
              "      <th>50%</th>\n",
              "      <td>115.183594</td>\n",
              "      <td>46.931022</td>\n",
              "      <td>0.203317</td>\n",
              "      <td>2.792642</td>\n",
              "      <td>8.451097</td>\n",
              "      <td>0.000000</td>\n",
              "    </tr>\n",
              "    <tr>\n",
              "      <th>75%</th>\n",
              "      <td>127.109375</td>\n",
              "      <td>50.979103</td>\n",
              "      <td>0.932374</td>\n",
              "      <td>5.413253</td>\n",
              "      <td>10.727927</td>\n",
              "      <td>0.000000</td>\n",
              "    </tr>\n",
              "    <tr>\n",
              "      <th>max</th>\n",
              "      <td>189.734375</td>\n",
              "      <td>91.808628</td>\n",
              "      <td>68.101622</td>\n",
              "      <td>222.421405</td>\n",
              "      <td>34.539844</td>\n",
              "      <td>1.000000</td>\n",
              "    </tr>\n",
              "  </tbody>\n",
              "</table>\n",
              "</div>"
            ],
            "text/plain": [
              "        Mean of the integrated profile  ...  target_class\n",
              "count                     12528.000000  ...  12528.000000\n",
              "mean                        111.041841  ...      0.092034\n",
              "std                          25.672828  ...      0.289085\n",
              "min                           5.812500  ...      0.000000\n",
              "25%                         100.871094  ...      0.000000\n",
              "50%                         115.183594  ...      0.000000\n",
              "75%                         127.109375  ...      0.000000\n",
              "max                         189.734375  ...      1.000000\n",
              "\n",
              "[8 rows x 6 columns]"
            ]
          },
          "metadata": {
            "tags": []
          },
          "execution_count": 41
        }
      ]
    },
    {
      "cell_type": "code",
      "metadata": {
        "colab": {
          "base_uri": "https://localhost:8080/"
        },
        "id": "nNBrclUYHQxB",
        "outputId": "b4fa2367-9fe7-4afa-c4a3-6dfa7833f309"
      },
      "source": [
        "Q1 = dataset_drop.quantile(0.25)\r\n",
        "Q3 = dataset_drop.quantile(0.75)\r\n",
        "IQR = Q3 - Q1\r\n",
        "lower_range= Q1-(1.5 * IQR)\r\n",
        "upper_range= Q3+(1.5 * IQR)\r\n",
        "print('Number of Outliers (Percentage):')\r\n",
        "((dataset_drop < (lower_range)) | (dataset_drop > (upper_range))).sum()/len(dataset_drop) * 100"
      ],
      "execution_count": null,
      "outputs": [
        {
          "output_type": "stream",
          "text": [
            "Number of Outliers (Percentage):\n"
          ],
          "name": "stdout"
        },
        {
          "output_type": "execute_result",
          "data": {
            "text/plain": [
              " Mean of the integrated profile                   5.723180\n",
              " Standard deviation of the integrated profile     1.420817\n",
              " Skewness of the integrated profile              10.696041\n",
              " Mean of the DM-SNR curve                        16.339400\n",
              " Excess kurtosis of the DM-SNR curve              2.785760\n",
              "target_class                                      9.203384\n",
              "dtype: float64"
            ]
          },
          "metadata": {
            "tags": []
          },
          "execution_count": 42
        }
      ]
    },
    {
      "cell_type": "markdown",
      "metadata": {
        "id": "YAlhxCgdMaxO"
      },
      "source": [
        "As we can see Mean of DM-SNR curve has a lot of Outliers, which should be taken care of."
      ]
    },
    {
      "cell_type": "code",
      "metadata": {
        "id": "Bc_Z5h1jHzq0",
        "colab": {
          "base_uri": "https://localhost:8080/",
          "height": 331
        },
        "outputId": "78357d3b-0214-4795-b598-eca2d6d403a1"
      },
      "source": [
        "for cols in dataset_drop.columns[:-1]:\r\n",
        "  dataset_drop[cols] = np.where(dataset_drop[cols]>upper_range[cols],\r\n",
        "                                    upper_range[cols],dataset_drop[cols])\r\n",
        "  dataset_drop[cols] = np.where(dataset_drop[cols]<lower_range[cols],\r\n",
        "                                    lower_range[cols],dataset_drop[cols])\r\n",
        "dataset_drop.describe()"
      ],
      "execution_count": null,
      "outputs": [
        {
          "output_type": "execute_result",
          "data": {
            "text/html": [
              "<div>\n",
              "<style scoped>\n",
              "    .dataframe tbody tr th:only-of-type {\n",
              "        vertical-align: middle;\n",
              "    }\n",
              "\n",
              "    .dataframe tbody tr th {\n",
              "        vertical-align: top;\n",
              "    }\n",
              "\n",
              "    .dataframe thead th {\n",
              "        text-align: right;\n",
              "    }\n",
              "</style>\n",
              "<table border=\"1\" class=\"dataframe\">\n",
              "  <thead>\n",
              "    <tr style=\"text-align: right;\">\n",
              "      <th></th>\n",
              "      <th>Mean of the integrated profile</th>\n",
              "      <th>Standard deviation of the integrated profile</th>\n",
              "      <th>Skewness of the integrated profile</th>\n",
              "      <th>Mean of the DM-SNR curve</th>\n",
              "      <th>Excess kurtosis of the DM-SNR curve</th>\n",
              "      <th>target_class</th>\n",
              "    </tr>\n",
              "  </thead>\n",
              "  <tbody>\n",
              "    <tr>\n",
              "      <th>count</th>\n",
              "      <td>12528.000000</td>\n",
              "      <td>12528.000000</td>\n",
              "      <td>12528.000000</td>\n",
              "      <td>12528.000000</td>\n",
              "      <td>12528.000000</td>\n",
              "      <td>12528.000000</td>\n",
              "    </tr>\n",
              "    <tr>\n",
              "      <th>mean</th>\n",
              "      <td>112.447886</td>\n",
              "      <td>46.475793</td>\n",
              "      <td>0.520109</td>\n",
              "      <td>4.223304</td>\n",
              "      <td>8.248613</td>\n",
              "      <td>0.092034</td>\n",
              "    </tr>\n",
              "    <tr>\n",
              "      <th>std</th>\n",
              "      <td>21.510603</td>\n",
              "      <td>6.572628</td>\n",
              "      <td>0.983681</td>\n",
              "      <td>3.312592</td>\n",
              "      <td>4.276166</td>\n",
              "      <td>0.289085</td>\n",
              "    </tr>\n",
              "    <tr>\n",
              "      <th>min</th>\n",
              "      <td>61.513672</td>\n",
              "      <td>29.436902</td>\n",
              "      <td>-1.791886</td>\n",
              "      <td>0.213211</td>\n",
              "      <td>-1.584232</td>\n",
              "      <td>0.000000</td>\n",
              "    </tr>\n",
              "    <tr>\n",
              "      <th>25%</th>\n",
              "      <td>100.871094</td>\n",
              "      <td>42.362222</td>\n",
              "      <td>-0.188142</td>\n",
              "      <td>1.910535</td>\n",
              "      <td>5.803063</td>\n",
              "      <td>0.000000</td>\n",
              "    </tr>\n",
              "    <tr>\n",
              "      <th>50%</th>\n",
              "      <td>115.183594</td>\n",
              "      <td>46.931022</td>\n",
              "      <td>0.203317</td>\n",
              "      <td>2.792642</td>\n",
              "      <td>8.451097</td>\n",
              "      <td>0.000000</td>\n",
              "    </tr>\n",
              "    <tr>\n",
              "      <th>75%</th>\n",
              "      <td>127.109375</td>\n",
              "      <td>50.979103</td>\n",
              "      <td>0.932374</td>\n",
              "      <td>5.413253</td>\n",
              "      <td>10.727927</td>\n",
              "      <td>0.000000</td>\n",
              "    </tr>\n",
              "    <tr>\n",
              "      <th>max</th>\n",
              "      <td>166.466797</td>\n",
              "      <td>63.904423</td>\n",
              "      <td>2.613147</td>\n",
              "      <td>10.667329</td>\n",
              "      <td>18.115223</td>\n",
              "      <td>1.000000</td>\n",
              "    </tr>\n",
              "  </tbody>\n",
              "</table>\n",
              "</div>"
            ],
            "text/plain": [
              "        Mean of the integrated profile  ...  target_class\n",
              "count                     12528.000000  ...  12528.000000\n",
              "mean                        112.447886  ...      0.092034\n",
              "std                          21.510603  ...      0.289085\n",
              "min                          61.513672  ...      0.000000\n",
              "25%                         100.871094  ...      0.000000\n",
              "50%                         115.183594  ...      0.000000\n",
              "75%                         127.109375  ...      0.000000\n",
              "max                         166.466797  ...      1.000000\n",
              "\n",
              "[8 rows x 6 columns]"
            ]
          },
          "metadata": {
            "tags": []
          },
          "execution_count": 43
        }
      ]
    },
    {
      "cell_type": "code",
      "metadata": {
        "colab": {
          "base_uri": "https://localhost:8080/",
          "height": 516
        },
        "id": "BPY1jNtNI_Ft",
        "outputId": "aca89f78-75c6-43a3-e110-e165c85e308a"
      },
      "source": [
        "cols = list(dataset_drop.columns)\r\n",
        "plt.figure(figsize=(10,8))\r\n",
        "plt.title('Final data')\r\n",
        "dataset_drop.boxplot(vert=0, column=cols)\r\n",
        "plt.xlim(-200, 1300)"
      ],
      "execution_count": null,
      "outputs": [
        {
          "output_type": "execute_result",
          "data": {
            "text/plain": [
              "(-200.0, 1300.0)"
            ]
          },
          "metadata": {
            "tags": []
          },
          "execution_count": 44
        },
        {
          "output_type": "display_data",
          "data": {
            "image/png": "[encoded data removed]",
            "text/plain": [
              "<Figure size 720x576 with 1 Axes>"
            ]
          },
          "metadata": {
            "tags": [],
            "needs_background": "light"
          }
        }
      ]
    },
    {
      "cell_type": "code",
      "metadata": {
        "colab": {
          "base_uri": "https://localhost:8080/"
        },
        "id": "5_pqFa-EGO0c",
        "outputId": "86d1b4d0-1929-4cb9-d9e6-d0a88238571c"
      },
      "source": [
        "inputs.shape, targets.shape"
      ],
      "execution_count": null,
      "outputs": [
        {
          "output_type": "execute_result",
          "data": {
            "text/plain": [
              "(torch.Size([12528, 5]), torch.Size([12528, 1]))"
            ]
          },
          "metadata": {
            "tags": []
          },
          "execution_count": 45
        }
      ]
    },
    {
      "cell_type": "code",
      "metadata": {
        "id": "-PQGgy4mK5t4"
      },
      "source": [
        "import torch"
      ],
      "execution_count": null,
      "outputs": []
    },
    {
      "cell_type": "code",
      "metadata": {
        "id": "wIT2iCuPY5fk"
      },
      "source": [
        "def accuracy(outputs, targets):\r\n",
        "    pred_rounded = outputs[1].round()\r\n",
        "    return torch.tensor(pred_rounded.eq(targets).sum() / len(targets))\r\n"
      ],
      "execution_count": null,
      "outputs": []
    },
    {
      "cell_type": "code",
      "metadata": {
        "colab": {
          "base_uri": "https://localhost:8080/"
        },
        "id": "FIBR3MQmS4HT",
        "outputId": "f6134b4d-706a-47b6-af76-a515d6a7cb64"
      },
      "source": [
        "len(dataset_drop)"
      ],
      "execution_count": null,
      "outputs": [
        {
          "output_type": "execute_result",
          "data": {
            "text/plain": [
              "12528"
            ]
          },
          "metadata": {
            "tags": []
          },
          "execution_count": 48
        }
      ]
    },
    {
      "cell_type": "code",
      "metadata": {
        "id": "3823SOoWEngg"
      },
      "source": [
        "class PulsarLogisticRegression(nn.Module):\r\n",
        "    def __init__(self):\r\n",
        "        super().__init__()\r\n",
        "        self.linear= nn.Linear(input_size,output_size)\r\n",
        "        #self.activation= nn.ReLU()\r\n",
        "        #self.linear2= nn.Linear(3, output_size)\r\n",
        "        self.norm= nn.Sigmoid()\r\n",
        "\r\n",
        "        \r\n",
        "    def forward(self,xb):\r\n",
        "        out= self.linear(xb)\r\n",
        "        #out=self.activation(out)\r\n",
        "        #out=self.linear2(out)\r\n",
        "        out=self.norm(out)\r\n",
        "        return out\r\n",
        "\r\n",
        "    def training_step(self, batch):\r\n",
        "        inputs, targets = batch \r\n",
        "        # Generate predictions\r\n",
        "        out = self(inputs)          \r\n",
        "        # Calcuate loss\r\n",
        "        loss = nn.BCELoss()                         # fill this\r\n",
        "        loss_t= loss(out,targets)\r\n",
        "        return loss_t\r\n",
        "    \r\n",
        "    def validation_step(self, batch):\r\n",
        "        inputs, targets = batch\r\n",
        "        # Generate predictions\r\n",
        "        out = self(inputs)\r\n",
        "        # Calculate loss\r\n",
        "        loss = nn.BCELoss()\r\n",
        "        loss_v= loss(out,targets)\r\n",
        "        acc = accuracy(out, targets)        # Calculate accuracy\r\n",
        "        return {'val_loss': loss_v, 'val_acc': acc} # fill this    \r\n",
        "        \r\n",
        "    def validation_epoch_end(self, outputs):\r\n",
        "        batch_losses = [x['val_loss'] for x in outputs]\r\n",
        "        epoch_loss = torch.stack(batch_losses).mean()   # Combine losses\r\n",
        "        batch_accs = [x['val_acc'] for x in outputs]\r\n",
        "        epoch_acc = torch.stack(batch_accs).mean()      # Combine accuracies\r\n",
        "        return {'val_loss': epoch_loss.item(), 'val_acc': epoch_acc.item()}\r\n",
        "    \r\n",
        "    def epoch_end(self, epoch, result, num_epochs):\r\n",
        "        # Print result every 20th epoch\r\n",
        "        #if (epoch+1) % 20 == 0 or epoch == num_epochs-1:\r\n",
        "        print(\"Epoch [{}], val_loss: {:.4f}, val_acc: {:.6f}\".format(epoch+1, result['val_loss'], result['val_acc']))\r\n"
      ],
      "execution_count": null,
      "outputs": []
    },
    {
      "cell_type": "code",
      "metadata": {
        "id": "ykkhVQs4GM8U",
        "colab": {
          "base_uri": "https://localhost:8080/"
        },
        "outputId": "d2687b23-7c01-4c5b-e2e2-83458912ef65"
      },
      "source": [
        "model = PulsarLogisticRegression()\r\n",
        "model.linear"
      ],
      "execution_count": null,
      "outputs": [
        {
          "output_type": "execute_result",
          "data": {
            "text/plain": [
              "Linear(in_features=5, out_features=1, bias=True)"
            ]
          },
          "metadata": {
            "tags": []
          },
          "execution_count": 97
        }
      ]
    },
    {
      "cell_type": "code",
      "metadata": {
        "colab": {
          "base_uri": "https://localhost:8080/"
        },
        "id": "duTz7fz3GiEc",
        "outputId": "d98c51f2-6ace-4884-d5bb-7e306a3af079"
      },
      "source": [
        "list(model.parameters())"
      ],
      "execution_count": null,
      "outputs": [
        {
          "output_type": "execute_result",
          "data": {
            "text/plain": [
              "[Parameter containing:\n",
              " tensor([[ 0.1925, -0.1576, -0.1341,  0.0035, -0.3492]], requires_grad=True),\n",
              " Parameter containing:\n",
              " tensor([0.3097], requires_grad=True)]"
            ]
          },
          "metadata": {
            "tags": []
          },
          "execution_count": 98
        }
      ]
    },
    {
      "cell_type": "code",
      "metadata": {
        "id": "4z2vxkfSHN1T"
      },
      "source": [
        "def evaluate(model, val_loader):\r\n",
        "    outputs = [model.validation_step(batch) for batch in val_loader]\r\n",
        "    return model.validation_epoch_end(outputs)\r\n",
        "\r\n",
        "def fit(epochs, lr, model, train_loader, val_loader, opt_func=torch.optim.SGD):\r\n",
        "    history = []\r\n",
        "    optimizer = opt_func(model.parameters(), lr, momentum=0.9)\r\n",
        "    for epoch in range(epochs):\r\n",
        "        # Training Phase \r\n",
        "        for batch in train_loader:\r\n",
        "            loss = model.training_step(batch)\r\n",
        "            loss.backward()\r\n",
        "            optimizer.step()\r\n",
        "            optimizer.zero_grad()\r\n",
        "        # Validation phase\r\n",
        "        result = evaluate(model, val_loader)\r\n",
        "        model.epoch_end(epoch, result, epochs)\r\n",
        "        history.append(result)\r\n",
        "    return history"
      ],
      "execution_count": null,
      "outputs": []
    },
    {
      "cell_type": "code",
      "metadata": {
        "colab": {
          "base_uri": "https://localhost:8080/"
        },
        "id": "LwefZoXAHs1x",
        "outputId": "e3332be5-5beb-4c64-e820-31fee14d205b"
      },
      "source": [
        "result = evaluate(model, val_loader) # Use the the evaluate function\r\n",
        "print(result)"
      ],
      "execution_count": null,
      "outputs": [
        {
          "output_type": "stream",
          "text": [
            "{'val_loss': 18.834726333618164, 'val_acc': 0.1050991341471672}\n"
          ],
          "name": "stdout"
        },
        {
          "output_type": "stream",
          "text": [
            "/usr/local/lib/python3.6/dist-packages/ipykernel_launcher.py:3: UserWarning: To copy construct from a tensor, it is recommended to use sourceTensor.clone().detach() or sourceTensor.clone().detach().requires_grad_(True), rather than torch.tensor(sourceTensor).\n",
            "  This is separate from the ipykernel package so we can avoid doing imports until\n"
          ],
          "name": "stderr"
        }
      ]
    },
    {
      "cell_type": "code",
      "metadata": {
        "id": "oLqVPE59QIqH",
        "colab": {
          "base_uri": "https://localhost:8080/"
        },
        "outputId": "3cc0d131-4380-42f3-c01b-5f5033385d52"
      },
      "source": [
        "history1= fit(10,0.001,model,train_loader,val_loader)"
      ],
      "execution_count": null,
      "outputs": [
        {
          "output_type": "stream",
          "text": [
            "/usr/local/lib/python3.6/dist-packages/ipykernel_launcher.py:3: UserWarning: To copy construct from a tensor, it is recommended to use sourceTensor.clone().detach() or sourceTensor.clone().detach().requires_grad_(True), rather than torch.tensor(sourceTensor).\n",
            "  This is separate from the ipykernel package so we can avoid doing imports until\n"
          ],
          "name": "stderr"
        },
        {
          "output_type": "stream",
          "text": [
            "Epoch [1], val_loss: 4.2133, val_acc: 0.828139\n",
            "Epoch [2], val_loss: 2.7779, val_acc: 0.828139\n",
            "Epoch [3], val_loss: 0.1370, val_acc: 0.819617\n",
            "Epoch [4], val_loss: 0.1187, val_acc: 0.819617\n",
            "Epoch [5], val_loss: 0.1247, val_acc: 0.819617\n",
            "Epoch [6], val_loss: 0.1191, val_acc: 0.819617\n",
            "Epoch [7], val_loss: 0.1137, val_acc: 0.819617\n",
            "Epoch [8], val_loss: 0.1128, val_acc: 0.819617\n",
            "Epoch [9], val_loss: 0.1127, val_acc: 0.819617\n",
            "Epoch [10], val_loss: 0.1111, val_acc: 0.819617\n"
          ],
          "name": "stdout"
        }
      ]
    },
    {
      "cell_type": "code",
      "metadata": {
        "colab": {
          "base_uri": "https://localhost:8080/"
        },
        "id": "KLfzZALchtyj",
        "outputId": "7dd81f81-c73f-4f5d-ebf9-a4631d040e65"
      },
      "source": [
        "history1 += fit(40,0.001,model,train_loader,val_loader)"
      ],
      "execution_count": null,
      "outputs": [
        {
          "output_type": "stream",
          "text": [
            "/usr/local/lib/python3.6/dist-packages/ipykernel_launcher.py:3: UserWarning: To copy construct from a tensor, it is recommended to use sourceTensor.clone().detach() or sourceTensor.clone().detach().requires_grad_(True), rather than torch.tensor(sourceTensor).\n",
            "  This is separate from the ipykernel package so we can avoid doing imports until\n"
          ],
          "name": "stderr"
        },
        {
          "output_type": "stream",
          "text": [
            "Epoch [1], val_loss: 0.1106, val_acc: 0.819617\n",
            "Epoch [2], val_loss: 0.1129, val_acc: 0.819617\n",
            "Epoch [3], val_loss: 0.1120, val_acc: 0.819617\n",
            "Epoch [4], val_loss: 0.1099, val_acc: 0.819617\n",
            "Epoch [5], val_loss: 0.1221, val_acc: 0.819617\n",
            "Epoch [6], val_loss: 0.1520, val_acc: 0.819617\n",
            "Epoch [7], val_loss: 0.1237, val_acc: 0.819617\n",
            "Epoch [8], val_loss: 0.1314, val_acc: 0.819617\n",
            "Epoch [9], val_loss: 0.1167, val_acc: 0.819617\n",
            "Epoch [10], val_loss: 0.1726, val_acc: 0.894901\n",
            "Epoch [11], val_loss: 0.1408, val_acc: 0.819617\n",
            "Epoch [12], val_loss: 0.1254, val_acc: 0.819617\n",
            "Epoch [13], val_loss: 0.1093, val_acc: 0.819617\n",
            "Epoch [14], val_loss: 0.1092, val_acc: 0.819617\n",
            "Epoch [15], val_loss: 0.1101, val_acc: 0.819617\n",
            "Epoch [16], val_loss: 0.1101, val_acc: 0.819617\n",
            "Epoch [17], val_loss: 0.1112, val_acc: 0.819617\n",
            "Epoch [18], val_loss: 0.1165, val_acc: 0.819617\n",
            "Epoch [19], val_loss: 0.1379, val_acc: 0.819617\n",
            "Epoch [20], val_loss: 0.1097, val_acc: 0.819617\n",
            "Epoch [21], val_loss: 0.1093, val_acc: 0.819617\n",
            "Epoch [22], val_loss: 0.1112, val_acc: 0.819617\n",
            "Epoch [23], val_loss: 0.1274, val_acc: 0.819617\n",
            "Epoch [24], val_loss: 0.1151, val_acc: 0.819617\n",
            "Epoch [25], val_loss: 0.1111, val_acc: 0.819617\n",
            "Epoch [26], val_loss: 0.1258, val_acc: 0.819617\n",
            "Epoch [27], val_loss: 0.1091, val_acc: 0.819617\n",
            "Epoch [28], val_loss: 0.1132, val_acc: 0.819617\n",
            "Epoch [29], val_loss: 0.1401, val_acc: 0.819617\n",
            "Epoch [30], val_loss: 0.1327, val_acc: 0.819617\n",
            "Epoch [31], val_loss: 0.1412, val_acc: 0.819617\n",
            "Epoch [32], val_loss: 0.1094, val_acc: 0.819617\n",
            "Epoch [33], val_loss: 0.1097, val_acc: 0.819617\n",
            "Epoch [34], val_loss: 0.1117, val_acc: 0.819617\n",
            "Epoch [35], val_loss: 0.1268, val_acc: 0.819617\n",
            "Epoch [36], val_loss: 0.1140, val_acc: 0.819617\n",
            "Epoch [37], val_loss: 0.1091, val_acc: 0.819617\n",
            "Epoch [38], val_loss: 0.1548, val_acc: 0.819617\n",
            "Epoch [39], val_loss: 0.1215, val_acc: 0.819617\n",
            "Epoch [40], val_loss: 0.1166, val_acc: 0.819617\n"
          ],
          "name": "stdout"
        }
      ]
    },
    {
      "cell_type": "code",
      "metadata": {
        "id": "3YMWitqvC7x-",
        "colab": {
          "base_uri": "https://localhost:8080/",
          "height": 295
        },
        "outputId": "84c7da9a-3dfc-47fa-f0f7-28142896bb92"
      },
      "source": [
        "def plot_losses(history):\r\n",
        "    train_losses = [x.get('train_loss') for x in history]\r\n",
        "    val_losses = [x['val_loss'] for x in history]\r\n",
        "    plt.plot(train_losses, '-bx')\r\n",
        "    plt.plot(val_losses, '-rx')\r\n",
        "    plt.xlabel('epoch')\r\n",
        "    plt.ylabel('loss')\r\n",
        "    plt.legend(['Training', 'Validation'])\r\n",
        "    plt.title('Loss vs. No. of epochs');\r\n",
        "\r\n",
        "plot_losses(history1)"
      ],
      "execution_count": null,
      "outputs": [
        {
          "output_type": "display_data",
          "data": {
            "image/png": "[encoded data removed]",
            "text/plain": [
              "<Figure size 432x288 with 1 Axes>"
            ]
          },
          "metadata": {
            "tags": [],
            "needs_background": "light"
          }
        }
      ]
    },
    {
      "cell_type": "code",
      "metadata": {
        "colab": {
          "base_uri": "https://localhost:8080/"
        },
        "id": "ya9R_zBfkyV-",
        "outputId": "5a5d087c-42a5-4da7-ec27-d10ba50f0b8c"
      },
      "source": [
        "test_datasetURL=\"https://www.kaggle.com/colearninglounge/predicting-pulsar-starintermediate?select=pulsar_data_test.csv\"\r\n",
        "od.download(test_datasetURL)"
      ],
      "execution_count": null,
      "outputs": [
        {
          "output_type": "stream",
          "text": [
            "Please provide your Kaggle credentials to download this dataset. Learn more: http://bit.ly/kaggle-creds\n",
            "Your Kaggle username: supremekai40\n",
            "Your Kaggle Key: ··········\n"
          ],
          "name": "stdout"
        },
        {
          "output_type": "stream",
          "text": [
            "100%|██████████| 790k/790k [00:00<00:00, 86.6MB/s]"
          ],
          "name": "stderr"
        },
        {
          "output_type": "stream",
          "text": [
            "Downloading predicting-pulsar-starintermediate.zip to ./predicting-pulsar-starintermediate\n",
            "\n"
          ],
          "name": "stdout"
        },
        {
          "output_type": "stream",
          "text": [
            "\n"
          ],
          "name": "stderr"
        }
      ]
    },
    {
      "cell_type": "code",
      "metadata": {
        "id": "lIf9jIIfqbm0"
      },
      "source": [
        "import torchvision.transforms as transforms"
      ],
      "execution_count": null,
      "outputs": []
    },
    {
      "cell_type": "code",
      "metadata": {
        "id": "kuEfwRdYlZJ4"
      },
      "source": [
        "test_dataset= pd.read_csv('/content/predicting-pulsar-starintermediate/pulsar_data_test.csv')"
      ],
      "execution_count": null,
      "outputs": []
    },
    {
      "cell_type": "code",
      "metadata": {
        "colab": {
          "base_uri": "https://localhost:8080/"
        },
        "id": "PzcybtwwUM4D",
        "outputId": "495684cd-8130-42eb-9337-90ef3844309c"
      },
      "source": [
        "test_dataset.columns"
      ],
      "execution_count": null,
      "outputs": [
        {
          "output_type": "execute_result",
          "data": {
            "text/plain": [
              "Index([' Mean of the integrated profile',\n",
              "       ' Standard deviation of the integrated profile',\n",
              "       ' Excess kurtosis of the integrated profile',\n",
              "       ' Skewness of the integrated profile', ' Mean of the DM-SNR curve',\n",
              "       ' Standard deviation of the DM-SNR curve',\n",
              "       ' Excess kurtosis of the DM-SNR curve', ' Skewness of the DM-SNR curve',\n",
              "       'target_class'],\n",
              "      dtype='object')"
            ]
          },
          "metadata": {
            "tags": []
          },
          "execution_count": 107
        }
      ]
    },
    {
      "cell_type": "code",
      "metadata": {
        "colab": {
          "base_uri": "https://localhost:8080/"
        },
        "id": "5g8wK20YsYq-",
        "outputId": "b7e4faca-799a-4512-c6c8-f623be8f77a0"
      },
      "source": [
        "test_dataset_drop= test_dataset.copy()\r\n",
        "test_dataset_drop=test_dataset_drop.drop([' Excess kurtosis of the integrated profile', \r\n",
        "                                     ' Skewness of the DM-SNR curve', \r\n",
        "                                     ' Standard deviation of the DM-SNR curve'], axis=1)\r\n",
        "test_dataset_drop.columns"
      ],
      "execution_count": null,
      "outputs": [
        {
          "output_type": "execute_result",
          "data": {
            "text/plain": [
              "Index([' Mean of the integrated profile',\n",
              "       ' Standard deviation of the integrated profile',\n",
              "       ' Skewness of the integrated profile', ' Mean of the DM-SNR curve',\n",
              "       ' Excess kurtosis of the DM-SNR curve', 'target_class'],\n",
              "      dtype='object')"
            ]
          },
          "metadata": {
            "tags": []
          },
          "execution_count": 108
        }
      ]
    },
    {
      "cell_type": "code",
      "metadata": {
        "colab": {
          "base_uri": "https://localhost:8080/",
          "height": 453
        },
        "id": "Gc5cBboCtCqp",
        "outputId": "0f373700-a258-48f9-fa5e-b8e50fbc5c45"
      },
      "source": [
        "test_dataset_drop"
      ],
      "execution_count": null,
      "outputs": [
        {
          "output_type": "execute_result",
          "data": {
            "text/html": [
              "<div>\n",
              "<style scoped>\n",
              "    .dataframe tbody tr th:only-of-type {\n",
              "        vertical-align: middle;\n",
              "    }\n",
              "\n",
              "    .dataframe tbody tr th {\n",
              "        vertical-align: top;\n",
              "    }\n",
              "\n",
              "    .dataframe thead th {\n",
              "        text-align: right;\n",
              "    }\n",
              "</style>\n",
              "<table border=\"1\" class=\"dataframe\">\n",
              "  <thead>\n",
              "    <tr style=\"text-align: right;\">\n",
              "      <th></th>\n",
              "      <th>Mean of the integrated profile</th>\n",
              "      <th>Standard deviation of the integrated profile</th>\n",
              "      <th>Skewness of the integrated profile</th>\n",
              "      <th>Mean of the DM-SNR curve</th>\n",
              "      <th>Excess kurtosis of the DM-SNR curve</th>\n",
              "      <th>target_class</th>\n",
              "    </tr>\n",
              "  </thead>\n",
              "  <tbody>\n",
              "    <tr>\n",
              "      <th>0</th>\n",
              "      <td>116.906250</td>\n",
              "      <td>48.920605</td>\n",
              "      <td>-0.129815</td>\n",
              "      <td>3.037625</td>\n",
              "      <td>8.122621</td>\n",
              "      <td>NaN</td>\n",
              "    </tr>\n",
              "    <tr>\n",
              "      <th>1</th>\n",
              "      <td>75.585938</td>\n",
              "      <td>34.386254</td>\n",
              "      <td>8.652913</td>\n",
              "      <td>3.765050</td>\n",
              "      <td>7.048189</td>\n",
              "      <td>NaN</td>\n",
              "    </tr>\n",
              "    <tr>\n",
              "      <th>2</th>\n",
              "      <td>103.273438</td>\n",
              "      <td>46.996628</td>\n",
              "      <td>0.821088</td>\n",
              "      <td>2.244983</td>\n",
              "      <td>9.330498</td>\n",
              "      <td>NaN</td>\n",
              "    </tr>\n",
              "    <tr>\n",
              "      <th>3</th>\n",
              "      <td>101.078125</td>\n",
              "      <td>48.587487</td>\n",
              "      <td>1.151870</td>\n",
              "      <td>81.887960</td>\n",
              "      <td>0.485105</td>\n",
              "      <td>NaN</td>\n",
              "    </tr>\n",
              "    <tr>\n",
              "      <th>4</th>\n",
              "      <td>113.226562</td>\n",
              "      <td>48.608804</td>\n",
              "      <td>0.292120</td>\n",
              "      <td>6.291806</td>\n",
              "      <td>4.540138</td>\n",
              "      <td>NaN</td>\n",
              "    </tr>\n",
              "    <tr>\n",
              "      <th>...</th>\n",
              "      <td>...</td>\n",
              "      <td>...</td>\n",
              "      <td>...</td>\n",
              "      <td>...</td>\n",
              "      <td>...</td>\n",
              "      <td>...</td>\n",
              "    </tr>\n",
              "    <tr>\n",
              "      <th>5365</th>\n",
              "      <td>116.531250</td>\n",
              "      <td>51.140269</td>\n",
              "      <td>-0.184189</td>\n",
              "      <td>4.510870</td>\n",
              "      <td>6.634989</td>\n",
              "      <td>NaN</td>\n",
              "    </tr>\n",
              "    <tr>\n",
              "      <th>5366</th>\n",
              "      <td>114.976562</td>\n",
              "      <td>53.783052</td>\n",
              "      <td>-0.155708</td>\n",
              "      <td>2.772575</td>\n",
              "      <td>8.440796</td>\n",
              "      <td>NaN</td>\n",
              "    </tr>\n",
              "    <tr>\n",
              "      <th>5367</th>\n",
              "      <td>136.171875</td>\n",
              "      <td>48.924385</td>\n",
              "      <td>0.063227</td>\n",
              "      <td>2.810201</td>\n",
              "      <td>7.848577</td>\n",
              "      <td>NaN</td>\n",
              "    </tr>\n",
              "    <tr>\n",
              "      <th>5368</th>\n",
              "      <td>106.500000</td>\n",
              "      <td>49.066122</td>\n",
              "      <td>0.140377</td>\n",
              "      <td>2.331104</td>\n",
              "      <td>9.008041</td>\n",
              "      <td>NaN</td>\n",
              "    </tr>\n",
              "    <tr>\n",
              "      <th>5369</th>\n",
              "      <td>110.679688</td>\n",
              "      <td>38.252642</td>\n",
              "      <td>1.690689</td>\n",
              "      <td>4.434783</td>\n",
              "      <td>5.939747</td>\n",
              "      <td>NaN</td>\n",
              "    </tr>\n",
              "  </tbody>\n",
              "</table>\n",
              "<p>5370 rows × 6 columns</p>\n",
              "</div>"
            ],
            "text/plain": [
              "       Mean of the integrated profile  ...  target_class\n",
              "0                          116.906250  ...           NaN\n",
              "1                           75.585938  ...           NaN\n",
              "2                          103.273438  ...           NaN\n",
              "3                          101.078125  ...           NaN\n",
              "4                          113.226562  ...           NaN\n",
              "...                               ...  ...           ...\n",
              "5365                       116.531250  ...           NaN\n",
              "5366                       114.976562  ...           NaN\n",
              "5367                       136.171875  ...           NaN\n",
              "5368                       106.500000  ...           NaN\n",
              "5369                       110.679688  ...           NaN\n",
              "\n",
              "[5370 rows x 6 columns]"
            ]
          },
          "metadata": {
            "tags": []
          },
          "execution_count": 109
        }
      ]
    },
    {
      "cell_type": "code",
      "metadata": {
        "id": "OA2lmg31gTId"
      },
      "source": [
        "input_cols= [title for title in dataset_drop.columns[:-1]]\r\n",
        "output_cols= [dataset_drop.columns[-1]]"
      ],
      "execution_count": null,
      "outputs": []
    },
    {
      "cell_type": "code",
      "metadata": {
        "id": "TqN8blAOY9vP",
        "colab": {
          "base_uri": "https://localhost:8080/"
        },
        "outputId": "d7678cbe-3c31-464a-bd10-cad2990cd16a"
      },
      "source": [
        "test_inputs_array = test_dataset_drop[input_cols].to_numpy()\r\n",
        "test_targets_array = test_dataset_drop[output_cols].to_numpy()"
      ],
      "execution_count": null,
      "outputs": [
        {
          "output_type": "error",
          "ename": "NameError",
          "evalue": "ignored",
          "traceback": [
            "\u001b[0;31m---------------------------------------------------------------------------\u001b[0m",
            "\u001b[0;31mNameError\u001b[0m                                 Traceback (most recent call last)",
            "\u001b[0;32m<ipython-input-1-40704e5692bb>\u001b[0m in \u001b[0;36m<module>\u001b[0;34m()\u001b[0m\n\u001b[0;32m----> 1\u001b[0;31m \u001b[0mtest_inputs_array\u001b[0m \u001b[0;34m=\u001b[0m \u001b[0mtest_dataset_drop\u001b[0m\u001b[0;34m[\u001b[0m\u001b[0minput_cols\u001b[0m\u001b[0;34m]\u001b[0m\u001b[0;34m.\u001b[0m\u001b[0mto_numpy\u001b[0m\u001b[0;34m(\u001b[0m\u001b[0;34m)\u001b[0m\u001b[0;34m\u001b[0m\u001b[0;34m\u001b[0m\u001b[0m\n\u001b[0m\u001b[1;32m      2\u001b[0m \u001b[0mtest_targets_array\u001b[0m \u001b[0;34m=\u001b[0m \u001b[0mtest_dataset_drop\u001b[0m\u001b[0;34m[\u001b[0m\u001b[0moutput_cols\u001b[0m\u001b[0;34m]\u001b[0m\u001b[0;34m.\u001b[0m\u001b[0mto_numpy\u001b[0m\u001b[0;34m(\u001b[0m\u001b[0;34m)\u001b[0m\u001b[0;34m\u001b[0m\u001b[0;34m\u001b[0m\u001b[0m\n",
            "\u001b[0;31mNameError\u001b[0m: name 'test_dataset_drop' is not defined"
          ]
        }
      ]
    },
    {
      "cell_type": "code",
      "metadata": {
        "id": "AnSwOGxxY_vK"
      },
      "source": [
        "test_inputs= torch.tensor(test_inputs_array, dtype=torch.float32)\r\n",
        "test_targets= torch.tensor(test_targets_array, dtype=torch.float32)"
      ],
      "execution_count": null,
      "outputs": []
    },
    {
      "cell_type": "code",
      "metadata": {
        "colab": {
          "base_uri": "https://localhost:8080/"
        },
        "id": "omPYZnQmW0fo",
        "outputId": "54d4943f-04d0-434d-bce8-a5d866d08192"
      },
      "source": [
        "test_inputs.size(), test_targets.size()"
      ],
      "execution_count": null,
      "outputs": [
        {
          "output_type": "execute_result",
          "data": {
            "text/plain": [
              "(torch.Size([5370, 5]), torch.Size([5370, 1]))"
            ]
          },
          "metadata": {
            "tags": []
          },
          "execution_count": 113
        }
      ]
    },
    {
      "cell_type": "code",
      "metadata": {
        "id": "YP3gFX52WvlX"
      },
      "source": [
        "test_data=TensorDataset(test_inputs, test_targets)\r\n",
        "test_loader = DataLoader(test_data, 256)"
      ],
      "execution_count": null,
      "outputs": []
    },
    {
      "cell_type": "code",
      "metadata": {
        "colab": {
          "base_uri": "https://localhost:8080/"
        },
        "id": "aDgIfiB8w1qv",
        "outputId": "ccffca1e-b023-460d-9fe2-24d846370d14"
      },
      "source": [
        "test_inputs_array, test_targets_array"
      ],
      "execution_count": null,
      "outputs": [
        {
          "output_type": "execute_result",
          "data": {
            "text/plain": [
              "(array([[ 1.16906250e+02,  4.89206049e+01, -1.29815137e-01,\n",
              "          3.03762542e+00,  8.12262079e+00],\n",
              "        [ 7.55859375e+01,  3.43862544e+01,  8.65291298e+00,\n",
              "          3.76505017e+00,  7.04818863e+00],\n",
              "        [ 1.03273438e+02,  4.69966280e+01,  8.21088334e-01,\n",
              "          2.24498328e+00,  9.33049846e+00],\n",
              "        ...,\n",
              "        [ 1.36171875e+02,  4.89243851e+01,  6.32272070e-02,\n",
              "          2.81020067e+00,  7.84857654e+00],\n",
              "        [ 1.06500000e+02,  4.90661225e+01,  1.40377159e-01,\n",
              "          2.33110368e+00,  9.00804066e+00],\n",
              "        [ 1.10679688e+02,  3.82526416e+01,  1.69068874e+00,\n",
              "          4.43478261e+00,  5.93974728e+00]]), array([[nan],\n",
              "        [nan],\n",
              "        [nan],\n",
              "        ...,\n",
              "        [nan],\n",
              "        [nan],\n",
              "        [nan]]))"
            ]
          },
          "metadata": {
            "tags": []
          },
          "execution_count": 115
        }
      ]
    },
    {
      "cell_type": "code",
      "metadata": {
        "colab": {
          "base_uri": "https://localhost:8080/"
        },
        "id": "Mb5tFtdTxBeZ",
        "outputId": "7bb55b21-0dc8-40c9-bb3d-06d4a3dee464"
      },
      "source": [
        "for xb,yb in test_loader:\r\n",
        "    print(\"inputs:\", xb.size())\r\n",
        "    print(\"outputs:\", yb.size())\r\n",
        "    break"
      ],
      "execution_count": null,
      "outputs": [
        {
          "output_type": "stream",
          "text": [
            "inputs: torch.Size([256, 5])\n",
            "outputs: torch.Size([256, 1])\n"
          ],
          "name": "stdout"
        }
      ]
    },
    {
      "cell_type": "code",
      "metadata": {
        "id": "Lnv9Tsa-3oKj"
      },
      "source": [
        "def predict(test_loader, model):\r\n",
        "    yhat = model(test_loader)\r\n",
        "    # retrieve numpy array\r\n",
        "    yhat = yhat.detach().numpy()\r\n",
        "    return yhat"
      ],
      "execution_count": null,
      "outputs": []
    },
    {
      "cell_type": "code",
      "metadata": {
        "colab": {
          "base_uri": "https://localhost:8080/"
        },
        "id": "RdgZJFUGm9RN",
        "outputId": "be8a7233-b59b-43f3-ce78-622ace756e23"
      },
      "source": [
        "#result = predict(test_loader,model)\r\n",
        "result2 = evaluate(model, val_loader) # Use the the evaluate function\r\n",
        "print(result2)"
      ],
      "execution_count": null,
      "outputs": [
        {
          "output_type": "stream",
          "text": [
            "{'val_loss': 0.11662352830171585, 'val_acc': 0.8196167349815369}\n"
          ],
          "name": "stdout"
        },
        {
          "output_type": "stream",
          "text": [
            "/usr/local/lib/python3.6/dist-packages/ipykernel_launcher.py:3: UserWarning: To copy construct from a tensor, it is recommended to use sourceTensor.clone().detach() or sourceTensor.clone().detach().requires_grad_(True), rather than torch.tensor(sourceTensor).\n",
            "  This is separate from the ipykernel package so we can avoid doing imports until\n"
          ],
          "name": "stderr"
        }
      ]
    },
    {
      "cell_type": "code",
      "metadata": {
        "id": "9ek3haMUm-3h"
      },
      "source": [
        ""
      ],
      "execution_count": null,
      "outputs": []
    }
  ]
}